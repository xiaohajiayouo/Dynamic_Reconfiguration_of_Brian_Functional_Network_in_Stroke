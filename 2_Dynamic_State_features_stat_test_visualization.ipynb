{
 "cells": [
  {
   "cell_type": "code",
   "execution_count": 2,
   "metadata": {},
   "outputs": [
    {
     "name": "stderr",
     "output_type": "stream",
     "text": [
      "D:\\Anaconda3\\lib\\site-packages\\statsmodels\\tools\\_testing.py:19: FutureWarning: pandas.util.testing is deprecated. Use the functions in the public API at pandas.testing instead.\n",
      "  import pandas.util.testing as tm\n"
     ]
    }
   ],
   "source": [
    "import numpy as np\n",
    "import pandas as pd\n",
    "from scipy.io import loadmat\n",
    "import glob\n",
    "import os\n",
    "import sys\n",
    "import matplotlib.pyplot as plt\n",
    "import seaborn as sns\n",
    "sns.set(style=\"white\")\n",
    "\n",
    "from scipy import stats\n",
    "from mne.viz import circular_layout, plot_connectivity_circle\n",
    "import statsmodels.api as sm\n",
    "from statsmodels.formula.api import ols\n",
    "import statsmodels.stats.multicomp\n",
    "import pyreadstat\n",
    "\n",
    "from matplotlib import cm\n",
    "pd.set_option('display.max_columns', 200)\n",
    "pd.set_option('display.max_rows', 200)\n",
    "\n",
    "from mpl_toolkits.axes_grid1.inset_locator import inset_axes\n",
    "from statannot import add_stat_annotation\n",
    "from scipy.stats import ttest_ind\n",
    "import matplotlib.pyplot as plt"
   ]
  },
  {
   "cell_type": "code",
   "execution_count": 38,
   "metadata": {},
   "outputs": [],
   "source": [
    "# num of modules\n",
    "num_of_m = [7,7,8,8,8,8,4,6,9,6,6,7,7,6,7,6,10,8,10,9,8,9,8,7,6,8,7,8,9,6]\n",
    "group = ['Mild','Mild','Severe','Severe','Severe','Severe','Mild','Severe','Severe','Mild','Severe','Severe','Mild','Severe','Mild',\\\n",
    "    'Control','Control','Control','Control','Control','Control','Control','Control','Control','Control',\\\n",
    "    'Control','Control','Control','Control','Control'];\n",
    "num_of_modules = {}\n",
    "num_of_modules['Group'] =  group\n",
    "num_of_modules['Num of modules'] = num_of_m\n",
    "\n",
    "num_of_modules_df = pd.DataFrame(num_of_modules)"
   ]
  },
  {
   "cell_type": "code",
   "execution_count": 57,
   "metadata": {},
   "outputs": [
    {
     "name": "stderr",
     "output_type": "stream",
     "text": [
      "D:\\Anaconda3\\lib\\site-packages\\ipykernel_launcher.py:22: FutureWarning: Passing `palette` without assigning `hue` is deprecated.\n",
      "D:\\Anaconda3\\lib\\site-packages\\ipykernel_launcher.py:22: UserWarning: \n",
      "The palette list has fewer values (2) than needed (3) and will cycle, which may produce an uninterpretable plot.\n"
     ]
    },
    {
     "data": {
      "image/png": "[encoded data removed]",
      "text/plain": [
       "<Figure size 432x288 with 1 Axes>"
      ]
     },
     "metadata": {},
     "output_type": "display_data"
    }
   ],
   "source": [
    "sns.set_style(\"ticks\")\n",
    "\n",
    "sns.boxplot(x=\"Group\", y=\"Num of modules\",\n",
    "#             hue=\"Age\",\n",
    "#             capsize=.1,\n",
    "            \n",
    "            data = num_of_modules_df\n",
    "           )\n",
    "\n",
    "ax = sns.stripplot(x=\"Group\", y=\"Num of modules\",\n",
    "#             hue=\"Age\", \n",
    "              #color=\"whitesmoke\", \n",
    "              jitter=True,\n",
    "              palette=[\"gainsboro\",\"gainsboro\"],\n",
    "              #palette=\"Set2\",\n",
    "#               split=True,\n",
    "#                    dodge = True,\n",
    "              data = num_of_modules_df,\n",
    "                   size = 10,\n",
    "              edgecolor = 'k',\n",
    "              linewidth = 1.5,\n",
    "              alpha =0.7\n",
    "             )\n",
    "\n",
    "sns.despine(offset=10, trim=True)\n",
    "\n",
    "handles, labels = ax.get_legend_handles_labels()\n",
    "plt.savefig('D:\\\\Desktop\\\\EMBC2022\\\\Numofmodules.png', dpi=500, bbox_inches='tight')"
   ]
  },
  {
   "cell_type": "markdown",
   "metadata": {},
   "source": [
    "# Fraction"
   ]
  },
  {
   "cell_type": "code",
   "execution_count": 54,
   "metadata": {},
   "outputs": [],
   "source": [
    "# [1 for i in range(62)]"
   ]
  },
  {
   "cell_type": "code",
   "execution_count": 10,
   "metadata": {},
   "outputs": [],
   "source": [
    "groupid = [\"Younger\"]*34+[\"Elder\"]*28+[\"Younger\"]*34+[\"Elder\"]*28+[\"Younger\"]*34+[\"Elder\"]*28+[\"Younger\"]*34+[\"Elder\"]*28\n",
    "# groupid = np.expand_dims(groupid,1)\n",
    "state_id= [\"1\"]*34+[\"1\"]*28+[\"2\"]*34+[\"2\"]*28+[\"3\"]*34+[\"3\"]*28+[\"4\"]*34+[\"4\"]*28\n",
    "# state_id = np.expand_dims(state_id,1)"
   ]
  },
  {
   "cell_type": "code",
   "execution_count": 4,
   "metadata": {},
   "outputs": [
    {
     "ename": "NameError",
     "evalue": "name 'fraction_state' is not defined",
     "output_type": "error",
     "traceback": [
      "\u001b[1;31m---------------------------------------------------------------------------\u001b[0m",
      "\u001b[1;31mNameError\u001b[0m                                 Traceback (most recent call last)",
      "\u001b[1;32m<ipython-input-4-4ee99ec918fc>\u001b[0m in \u001b[0;36m<module>\u001b[1;34m\u001b[0m\n\u001b[0;32m      1\u001b[0m \u001b[1;31m# state_id\u001b[0m\u001b[1;33m\u001b[0m\u001b[1;33m\u001b[0m\u001b[1;33m\u001b[0m\u001b[0m\n\u001b[1;32m----> 2\u001b[1;33m \u001b[0mfraction_state\u001b[0m\u001b[1;33m\u001b[0m\u001b[1;33m\u001b[0m\u001b[0m\n\u001b[0m",
      "\u001b[1;31mNameError\u001b[0m: name 'fraction_state' is not defined"
     ]
    }
   ],
   "source": [
    "# state_id \n",
    "fraction_state"
   ]
  },
  {
   "cell_type": "code",
   "execution_count": 7,
   "metadata": {},
   "outputs": [
    {
     "ename": "NameError",
     "evalue": "name 'a' is not defined",
     "output_type": "error",
     "traceback": [
      "\u001b[1;31m---------------------------------------------------------------------------\u001b[0m",
      "\u001b[1;31mNameError\u001b[0m                                 Traceback (most recent call last)",
      "\u001b[1;32m<ipython-input-7-02224a3d1043>\u001b[0m in \u001b[0;36m<module>\u001b[1;34m\u001b[0m\n\u001b[0;32m      2\u001b[0m \u001b[1;31m# all_state_f\u001b[0m\u001b[1;33m\u001b[0m\u001b[1;33m\u001b[0m\u001b[1;33m\u001b[0m\u001b[0m\n\u001b[0;32m      3\u001b[0m \u001b[0mf_state\u001b[0m\u001b[1;33m.\u001b[0m\u001b[0mshape\u001b[0m\u001b[1;33m\u001b[0m\u001b[1;33m\u001b[0m\u001b[0m\n\u001b[1;32m----> 4\u001b[1;33m \u001b[0mt\u001b[0m\u001b[1;33m,\u001b[0m\u001b[0mp\u001b[0m \u001b[1;33m=\u001b[0m \u001b[0mstats\u001b[0m\u001b[1;33m.\u001b[0m\u001b[0mttest_ind\u001b[0m\u001b[1;33m(\u001b[0m\u001b[0ma\u001b[0m\u001b[1;33m,\u001b[0m \u001b[0mb\u001b[0m\u001b[1;33m)\u001b[0m\u001b[1;33m\u001b[0m\u001b[1;33m\u001b[0m\u001b[0m\n\u001b[0m",
      "\u001b[1;31mNameError\u001b[0m: name 'a' is not defined"
     ]
    }
   ],
   "source": [
    "# all_state_f\n",
    "# all_state_f\n",
    "f_state.shape\n",
    "t,p = stats.ttest_ind(a, b)"
   ]
  },
  {
   "cell_type": "code",
   "execution_count": 11,
   "metadata": {},
   "outputs": [],
   "source": [
    "f_state = np.loadtxt(r'H:\\Matlab\\Work\\Age\\Gift_FCM\\ICA\\DFNC\\TR_30\\frac_time_state.txt')\n",
    "\n",
    "\n",
    "all_state_f = list(f_state.reshape(1,4*62)[0])\n",
    "\n",
    "fraction_time = {}\n",
    "fraction_time['Age'] = list(groupid)\n",
    "fraction_time['State'] = list(state_id)\n",
    "fraction_time['Fraction'] = all_state_f\n",
    "fraction_time = pd.DataFrame(fraction_time)\n",
    "\n",
    "# fraction_time = np.concatenate([groupid,state_id,all_state_f],1)"
   ]
  },
  {
   "cell_type": "code",
   "execution_count": 12,
   "metadata": {},
   "outputs": [],
   "source": [
    "fraction_time_df =  pd.DataFrame(fraction_time,columns = ['Age','State','Fraction'])"
   ]
  },
  {
   "cell_type": "code",
   "execution_count": 13,
   "metadata": {},
   "outputs": [
    {
     "data": {
      "text/html": [
       "<div>\n",
       "<style scoped>\n",
       "    .dataframe tbody tr th:only-of-type {\n",
       "        vertical-align: middle;\n",
       "    }\n",
       "\n",
       "    .dataframe tbody tr th {\n",
       "        vertical-align: top;\n",
       "    }\n",
       "\n",
       "    .dataframe thead th {\n",
       "        text-align: right;\n",
       "    }\n",
       "</style>\n",
       "<table border=\"1\" class=\"dataframe\">\n",
       "  <thead>\n",
       "    <tr style=\"text-align: right;\">\n",
       "      <th></th>\n",
       "      <th>Age</th>\n",
       "      <th>State</th>\n",
       "      <th>Fraction</th>\n",
       "    </tr>\n",
       "  </thead>\n",
       "  <tbody>\n",
       "    <tr>\n",
       "      <th>0</th>\n",
       "      <td>Younger</td>\n",
       "      <td>1</td>\n",
       "      <td>0.000000</td>\n",
       "    </tr>\n",
       "    <tr>\n",
       "      <th>1</th>\n",
       "      <td>Younger</td>\n",
       "      <td>1</td>\n",
       "      <td>1.000000</td>\n",
       "    </tr>\n",
       "    <tr>\n",
       "      <th>2</th>\n",
       "      <td>Younger</td>\n",
       "      <td>1</td>\n",
       "      <td>0.000000</td>\n",
       "    </tr>\n",
       "    <tr>\n",
       "      <th>3</th>\n",
       "      <td>Younger</td>\n",
       "      <td>1</td>\n",
       "      <td>0.000000</td>\n",
       "    </tr>\n",
       "    <tr>\n",
       "      <th>4</th>\n",
       "      <td>Younger</td>\n",
       "      <td>1</td>\n",
       "      <td>0.000000</td>\n",
       "    </tr>\n",
       "    <tr>\n",
       "      <th>...</th>\n",
       "      <td>...</td>\n",
       "      <td>...</td>\n",
       "      <td>...</td>\n",
       "    </tr>\n",
       "    <tr>\n",
       "      <th>243</th>\n",
       "      <td>Elder</td>\n",
       "      <td>4</td>\n",
       "      <td>0.109434</td>\n",
       "    </tr>\n",
       "    <tr>\n",
       "      <th>244</th>\n",
       "      <td>Elder</td>\n",
       "      <td>4</td>\n",
       "      <td>0.049057</td>\n",
       "    </tr>\n",
       "    <tr>\n",
       "      <th>245</th>\n",
       "      <td>Elder</td>\n",
       "      <td>4</td>\n",
       "      <td>0.000000</td>\n",
       "    </tr>\n",
       "    <tr>\n",
       "      <th>246</th>\n",
       "      <td>Elder</td>\n",
       "      <td>4</td>\n",
       "      <td>0.950943</td>\n",
       "    </tr>\n",
       "    <tr>\n",
       "      <th>247</th>\n",
       "      <td>Elder</td>\n",
       "      <td>4</td>\n",
       "      <td>0.000000</td>\n",
       "    </tr>\n",
       "  </tbody>\n",
       "</table>\n",
       "<p>248 rows × 3 columns</p>\n",
       "</div>"
      ],
      "text/plain": [
       "         Age State  Fraction\n",
       "0    Younger     1  0.000000\n",
       "1    Younger     1  1.000000\n",
       "2    Younger     1  0.000000\n",
       "3    Younger     1  0.000000\n",
       "4    Younger     1  0.000000\n",
       "..       ...   ...       ...\n",
       "243    Elder     4  0.109434\n",
       "244    Elder     4  0.049057\n",
       "245    Elder     4  0.000000\n",
       "246    Elder     4  0.950943\n",
       "247    Elder     4  0.000000\n",
       "\n",
       "[248 rows x 3 columns]"
      ]
     },
     "execution_count": 13,
     "metadata": {},
     "output_type": "execute_result"
    }
   ],
   "source": [
    "fraction_time_df"
   ]
  },
  {
   "cell_type": "code",
   "execution_count": 19,
   "metadata": {},
   "outputs": [
    {
     "name": "stdout",
     "output_type": "stream",
     "text": [
      "p-value annotation legend:\n",
      "ns: 5.00e-02 < p <= 1.00e+00\n",
      "*: 1.00e-02 < p <= 5.00e-02\n",
      "**: 1.00e-03 < p <= 1.00e-02\n",
      "***: 1.00e-04 < p <= 1.00e-03\n",
      "****: p <= 1.00e-04\n",
      "\n",
      "2_Younger v.s. 2_Elder: Custom statistical test, P_val:2.000e-04\n",
      "3_Younger v.s. 3_Elder: Custom statistical test, P_val:2.000e-04\n"
     ]
    },
    {
     "data": {
      "image/png": "[encoded data removed]",
      "text/plain": [
       "<Figure size 432x288 with 1 Axes>"
      ]
     },
     "metadata": {},
     "output_type": "display_data"
    }
   ],
   "source": [
    "# fig,ax = plt.subplots(figsize=(100,100),dpi=300,facecolor=\"w\")\n",
    "\n",
    "sns.set_style(\"ticks\")\n",
    "\n",
    "sns.barplot(x=\"State\", y=\"Fraction\",\n",
    "            hue=\"Age\",\n",
    "            capsize=.1,\n",
    "            #estimator= np.mean,\n",
    "            #ci=\"sd\",\n",
    "            #errcolor=\"k\",\n",
    "            #palette='Set2',\n",
    "            #hue=\"Patient_status\", kind=\"bar\",  palette=[\"silver\", \"salmon\", \"darkred\"],\n",
    "            #palette=\"Set2\",\n",
    "            data = fraction_time_df)\n",
    "\n",
    "ax = sns.stripplot(x=\"State\", y=\"Fraction\",\n",
    "            hue=\"Age\", \n",
    "              #color=\"whitesmoke\", \n",
    "              jitter=True,\n",
    "              palette=[\"gainsboro\",\"gainsboro\"],\n",
    "              #palette=\"Set2\",\n",
    "#               split=True,\n",
    "                   dodge = True,\n",
    "              data = fraction_time_df\n",
    "             )\n",
    "\n",
    "sns.despine(ax =ax)\n",
    "\n",
    "handles, labels = ax.get_legend_handles_labels()\n",
    "\n",
    "# When creating the legend, only use the first two elements\n",
    "# to effectively remove the last two.\n",
    "l = plt.legend(handles[2:4], labels[2:4], bbox_to_anchor=(1.05, 1), loc= 1, borderaxespad=0.)\n",
    "\n",
    "pairs= [\n",
    "        ((\"2\",\"Younger\"),(\"2\",\"Elder\")),\\\n",
    "        ((\"3\",\"Younger\"),(\"3\",\"Elder\")),\\\n",
    "    ]\n",
    "# test = ttest_ind(permutations=5000)\n",
    "add_stat_annotation(ax, box_pairs = pairs, data = fraction_time_df,\n",
    "                    #test='t-test_ind',\n",
    "                    perform_stat_test=False, \n",
    "                    pvalues=[0.000199960007998400,0.000199960007998400],\n",
    "                    line_offset_to_box= 0.08, line_offset=0.01, line_height=0.01, text_offset=0.08,\n",
    "                    loc='inside',x=\"State\", y=\"Fraction\",hue ='Age',verbose=2)\n",
    "# plt.legend(loc='upper left')\n",
    "# annotator.configure(, text_format='star',line_height=0.03,line_widh=1)\n",
    "# annotator.apply_and_annotate()\n",
    "plt.savefig('fraction2.png', dpi=300, bbox_inches='tight')"
   ]
  },
  {
   "cell_type": "markdown",
   "metadata": {},
   "source": [
    "## MDT"
   ]
  },
  {
   "cell_type": "code",
   "execution_count": 20,
   "metadata": {},
   "outputs": [],
   "source": [
    "mdt = np.loadtxt(r'H:\\Matlab\\Work\\Age\\Gift_FCM\\ICA\\DFNC\\TR_30\\mean_dwell_time.txt')\n",
    "all_state_mdt = list(f_state.reshape(1,4*62)[0])\n",
    "\n",
    "MDT = {}\n",
    "MDT['Age'] = list(groupid)\n",
    "MDT['State'] = list(state_id)\n",
    "MDT['Dwell time'] = all_state_mdt\n",
    "all_state_mdt_df = pd.DataFrame(MDT)"
   ]
  },
  {
   "cell_type": "code",
   "execution_count": 21,
   "metadata": {},
   "outputs": [
    {
     "data": {
      "text/html": [
       "<div>\n",
       "<style scoped>\n",
       "    .dataframe tbody tr th:only-of-type {\n",
       "        vertical-align: middle;\n",
       "    }\n",
       "\n",
       "    .dataframe tbody tr th {\n",
       "        vertical-align: top;\n",
       "    }\n",
       "\n",
       "    .dataframe thead th {\n",
       "        text-align: right;\n",
       "    }\n",
       "</style>\n",
       "<table border=\"1\" class=\"dataframe\">\n",
       "  <thead>\n",
       "    <tr style=\"text-align: right;\">\n",
       "      <th></th>\n",
       "      <th>Age</th>\n",
       "      <th>State</th>\n",
       "      <th>Dwell time</th>\n",
       "    </tr>\n",
       "  </thead>\n",
       "  <tbody>\n",
       "    <tr>\n",
       "      <th>0</th>\n",
       "      <td>Younger</td>\n",
       "      <td>1</td>\n",
       "      <td>0.000000</td>\n",
       "    </tr>\n",
       "    <tr>\n",
       "      <th>1</th>\n",
       "      <td>Younger</td>\n",
       "      <td>1</td>\n",
       "      <td>1.000000</td>\n",
       "    </tr>\n",
       "    <tr>\n",
       "      <th>2</th>\n",
       "      <td>Younger</td>\n",
       "      <td>1</td>\n",
       "      <td>0.000000</td>\n",
       "    </tr>\n",
       "    <tr>\n",
       "      <th>3</th>\n",
       "      <td>Younger</td>\n",
       "      <td>1</td>\n",
       "      <td>0.000000</td>\n",
       "    </tr>\n",
       "    <tr>\n",
       "      <th>4</th>\n",
       "      <td>Younger</td>\n",
       "      <td>1</td>\n",
       "      <td>0.000000</td>\n",
       "    </tr>\n",
       "    <tr>\n",
       "      <th>...</th>\n",
       "      <td>...</td>\n",
       "      <td>...</td>\n",
       "      <td>...</td>\n",
       "    </tr>\n",
       "    <tr>\n",
       "      <th>243</th>\n",
       "      <td>Elder</td>\n",
       "      <td>4</td>\n",
       "      <td>0.109434</td>\n",
       "    </tr>\n",
       "    <tr>\n",
       "      <th>244</th>\n",
       "      <td>Elder</td>\n",
       "      <td>4</td>\n",
       "      <td>0.049057</td>\n",
       "    </tr>\n",
       "    <tr>\n",
       "      <th>245</th>\n",
       "      <td>Elder</td>\n",
       "      <td>4</td>\n",
       "      <td>0.000000</td>\n",
       "    </tr>\n",
       "    <tr>\n",
       "      <th>246</th>\n",
       "      <td>Elder</td>\n",
       "      <td>4</td>\n",
       "      <td>0.950943</td>\n",
       "    </tr>\n",
       "    <tr>\n",
       "      <th>247</th>\n",
       "      <td>Elder</td>\n",
       "      <td>4</td>\n",
       "      <td>0.000000</td>\n",
       "    </tr>\n",
       "  </tbody>\n",
       "</table>\n",
       "<p>248 rows × 3 columns</p>\n",
       "</div>"
      ],
      "text/plain": [
       "         Age State  Dwell time\n",
       "0    Younger     1    0.000000\n",
       "1    Younger     1    1.000000\n",
       "2    Younger     1    0.000000\n",
       "3    Younger     1    0.000000\n",
       "4    Younger     1    0.000000\n",
       "..       ...   ...         ...\n",
       "243    Elder     4    0.109434\n",
       "244    Elder     4    0.049057\n",
       "245    Elder     4    0.000000\n",
       "246    Elder     4    0.950943\n",
       "247    Elder     4    0.000000\n",
       "\n",
       "[248 rows x 3 columns]"
      ]
     },
     "execution_count": 21,
     "metadata": {},
     "output_type": "execute_result"
    }
   ],
   "source": [
    "all_state_mdt_df"
   ]
  },
  {
   "cell_type": "code",
   "execution_count": 25,
   "metadata": {},
   "outputs": [
    {
     "name": "stdout",
     "output_type": "stream",
     "text": [
      "p-value annotation legend:\n",
      "ns: 5.00e-02 < p <= 1.00e+00\n",
      "*: 1.00e-02 < p <= 5.00e-02\n",
      "**: 1.00e-03 < p <= 1.00e-02\n",
      "***: 1.00e-04 < p <= 1.00e-03\n",
      "****: p <= 1.00e-04\n",
      "\n",
      "2_Younger v.s. 2_Elder: Custom statistical test, P_val:2.000e-04\n",
      "3_Younger v.s. 3_Elder: Custom statistical test, P_val:0.000e+00\n"
     ]
    },
    {
     "data": {
      "image/png": "[encoded data removed]",
      "text/plain": [
       "<Figure size 432x288 with 1 Axes>"
      ]
     },
     "metadata": {},
     "output_type": "display_data"
    }
   ],
   "source": [
    "sns.set_style(\"ticks\")\n",
    "sns.stripplot(x=\"State\", y=\"Dwell time\",\n",
    "            hue=\"Age\", \n",
    "              #color=\"whitesmoke\", \n",
    "              jitter=True,\n",
    "              palette=[\"gainsboro\",\"gainsboro\"],\n",
    "              #palette=\"Set2\",\n",
    "              dodge=True,\n",
    "              data = all_state_mdt_df,\n",
    "             )\n",
    "ax =sns.barplot(x=\"State\", y=\"Dwell time\",\n",
    "            hue=\"Age\",\n",
    "            capsize=.1,\n",
    "            #estimator= np.mean,\n",
    "            #ci=\"sd\",\n",
    "            #errcolor=\"k\",\n",
    "            #palette='Set2',\n",
    "            #hue=\"Patient_status\", kind=\"bar\",  palette=[\"silver\", \"salmon\", \"darkred\"],\n",
    "            #palette=\"Set2\",\n",
    "            data = all_state_mdt_df)\n",
    "sns.despine(ax =ax)\n",
    "\n",
    "handles, labels = ax.get_legend_handles_labels()\n",
    "\n",
    "# When creating the legend, only use the first two elements\n",
    "# to effectively remove the last two.\n",
    "l = plt.legend(handles[2:4], labels[2:4], bbox_to_anchor=(1.05, 1), loc= 1, borderaxespad=0.)\n",
    "\n",
    "pairs= [\n",
    "        ((\"2\",\"Younger\"),(\"2\",\"Elder\")),\\\n",
    "        ((\"3\",\"Younger\"),(\"3\",\"Elder\")),\\\n",
    "    ]\n",
    "# test = ttest_ind(permutations=5000)\n",
    "add_stat_annotation(ax, box_pairs = pairs, data = all_state_mdt_df,\n",
    "                    #test='t-test_ind',\n",
    "                    perform_stat_test=False, \n",
    "                    pvalues=[0.000199960007998400,0.0000],\n",
    "                    line_offset_to_box= 0.08, line_offset=0.01, line_height=0.01, text_offset=0.08,\n",
    "                    loc='inside',x=\"State\", y=\"Dwell time\",hue ='Age',verbose=2)\n",
    "plt.savefig('MDT2.png', dpi=300, bbox_inches='tight')"
   ]
  },
  {
   "cell_type": "markdown",
   "metadata": {},
   "source": [
    "# Num transition"
   ]
  },
  {
   "cell_type": "code",
   "execution_count": 26,
   "metadata": {},
   "outputs": [],
   "source": [
    "nt = np.loadtxt(r'H:\\Matlab\\Work\\Age\\Gift_FCM\\ICA\\DFNC\\TR_30\\num_transitions.txt')\n",
    "all_state_nt = list(nt.reshape(1,62)[0])\n",
    "nt_groupid = ['Younger']*34 +['Elder']*28\n",
    "nt = {}\n",
    "nt['Age'] = list(nt_groupid)\n",
    "nt['Transitions'] = all_state_nt\n",
    "all_state_nt_df = pd.DataFrame(nt)"
   ]
  },
  {
   "cell_type": "code",
   "execution_count": 301,
   "metadata": {},
   "outputs": [],
   "source": [
    "# all_state_nt_df"
   ]
  },
  {
   "cell_type": "code",
   "execution_count": 36,
   "metadata": {},
   "outputs": [
    {
     "name": "stderr",
     "output_type": "stream",
     "text": [
      "D:\\Anaconda3\\lib\\site-packages\\ipykernel_launcher.py:8: FutureWarning: Passing `palette` without assigning `hue` is deprecated.\n",
      "  \n"
     ]
    },
    {
     "data": {
      "image/png": "[encoded data removed]",
      "text/plain": [
       "<Figure size 432x288 with 1 Axes>"
      ]
     },
     "metadata": {},
     "output_type": "display_data"
    }
   ],
   "source": [
    "sns.set_style(\"ticks\")\n",
    "sns.stripplot(x=\"Age\", y=\"Transitions\", \n",
    "              #color=\"whitesmoke\", \n",
    "              jitter=True,\n",
    "              palette=[\"gainsboro\",\"gainsboro\"],\n",
    "              #palette=\"Set2\",\n",
    "#               dodge = True,\n",
    "              data = all_state_nt_df,\n",
    "             )\n",
    "ax =sns.barplot(x=\"Age\", y=\"Transitions\",\n",
    "#             hue=\"Age\",\n",
    "            capsize=.1,\n",
    "            #estimator= np.mean,\n",
    "            #ci=\"sd\",\n",
    "            #errcolor=\"k\",\n",
    "            #palette='Set2',\n",
    "            #hue=\"Patient_status\", kind=\"bar\",  palette=[\"silver\", \"salmon\", \"darkred\"],\n",
    "#             #palette=\"Set2\",\n",
    "#                 dodge = True,\n",
    "            data = all_state_nt_df)\n",
    "sns.despine(ax =ax)\n",
    "\n",
    "\n",
    "handles, labels = ax.get_legend_handles_labels()\n",
    "\n",
    "# When creating the legend, only use the first two elements\n",
    "# to effectively remove the last two.\n",
    "# l = plt.legend(handles[2:4], labels[2:4], bbox_to_anchor=(1.05, 1), loc= 1, borderaxespad=0.)\n",
    "plt.savefig('NT2.png', dpi=300, bbox_inches='tight')"
   ]
  },
  {
   "cell_type": "markdown",
   "metadata": {},
   "source": [
    "## TMP"
   ]
  },
  {
   "cell_type": "code",
   "execution_count": 19,
   "metadata": {},
   "outputs": [],
   "source": [
    "TMP_p = np.loadtxt(r'H:\\Matlab\\Work\\Age\\Gift_FCM\\ICA\\DFNC\\TR_30\\Transitions_p.txt')\n",
    "TMP_d = np.loadtxt(r'H:\\Matlab\\Work\\Age\\Gift_FCM\\ICA\\DFNC\\TR_30\\Transitions_d.txt')"
   ]
  },
  {
   "cell_type": "code",
   "execution_count": 22,
   "metadata": {},
   "outputs": [],
   "source": [
    "TMP_d\n",
    "TMP_p[TMP_p>0.05]=1\n",
    "state_sign = np.sign(TMP_d)\n",
    "state_p3 = -1*state_sign*np.log10(TMP_p)"
   ]
  },
  {
   "cell_type": "code",
   "execution_count": 23,
   "metadata": {},
   "outputs": [
    {
     "data": {
      "text/plain": [
       "array([[ 0.        , -0.        ,  1.41802348, -0.        ],\n",
       "       [-0.        ,  0.        ,  3.39802685,  0.        ],\n",
       "       [ 3.09699686,  2.44378435, -3.69905685, -0.        ],\n",
       "       [-0.        ,  0.        ,  1.78524299,  0.        ]])"
      ]
     },
     "execution_count": 23,
     "metadata": {},
     "output_type": "execute_result"
    }
   ],
   "source": [
    "state_p3"
   ]
  },
  {
   "cell_type": "code",
   "execution_count": 27,
   "metadata": {},
   "outputs": [
    {
     "name": "stderr",
     "output_type": "stream",
     "text": [
      "D:\\Anaconda3\\lib\\site-packages\\ipykernel_launcher.py:17: UserWarning: Matplotlib is currently using module://ipykernel.pylab.backend_inline, which is a non-GUI backend, so cannot show the figure.\n"
     ]
    },
    {
     "data": {
      "image/png": "[encoded data removed]",
      "text/plain": [
       "<Figure size 720x720 with 1 Axes>"
      ]
     },
     "metadata": {},
     "output_type": "display_data"
    }
   ],
   "source": [
    "jet = cm.get_cmap('jet') \n",
    "f, ax = plt.subplots(figsize=(10, 10))\n",
    "heatmap = sns.heatmap(state_p3, cmap= jet, \n",
    "                      #vmax=0.75,vmin=-0.75, \n",
    "                      center=0,\n",
    "            square = True,linewidths=.5,cbar =False, cbar_kws={\"shrink\": .5},xticklabels=False, yticklabels=False)\n",
    "bottom, top = heatmap.get_ylim()\n",
    "heatmap.set_ylim(bottom + 0.5, top - 0.5)\n",
    "\n",
    "ax.tick_params(labelsize=6)\n",
    "ax.hlines([0,1,2,3,4], *ax.get_xlim(), colors='black', linewidth=3)\n",
    "ax.vlines([0,1,2,3,4], *ax.get_xlim(), colors='black', linewidth=3)\n",
    "myfig = heatmap.get_figure()\n",
    "\n",
    "myfig =heatmap.get_figure()\n",
    "myfig.savefig(\"TransitionsMwithoutbar.png\",bbox_inches='tight', pad_inches=0, dpi=300)\n",
    "myfig.show()"
   ]
  },
  {
   "cell_type": "code",
   "execution_count": 323,
   "metadata": {},
   "outputs": [
    {
     "data": {
      "text/plain": [
       "Ttest_indResult(statistic=6.033835620564129, pvalue=1.0786739746297024e-07)"
      ]
     },
     "execution_count": 323,
     "metadata": {},
     "output_type": "execute_result"
    }
   ],
   "source": [
    "a = (1\n",
    ",1\n",
    ",0.301886790000000\n",
    ",1\n",
    ",0.464150940000000\n",
    ",0.826415090000000,\n",
    "0.124528300000000\n",
    ",0.683018870000000\n",
    ",0.471698110000000\n",
    ",1\n",
    ",0.00377358490000000\n",
    ",0.562264150000000\n",
    ",1\n",
    ",0.913207550000000\n",
    ",0.792452830000000\n",
    ",0.784905660000000\n",
    ",0.445283020000000\n",
    ",0.886792450000000\n",
    ",0.747169810000000\n",
    ",0.411320750000000\n",
    ",0.309433960000000\n",
    ",0.977358490000000\n",
    ",0.920754720000000\n",
    ",0.898113210000000\n",
    ",0.954716980000000\n",
    ",0.807547170000000\n",
    ",0.966037740000000\n",
    ",0.415094340000000\n",
    ",1\n",
    ",1\n",
    ",0.328301890000000\n",
    ",0.539622640000000\n",
    ",0.698113210000000\n",
    ",0.603773580000000)\n",
    "b = (0.158490570000000\n",
    ",0\n",
    ",0\n",
    ",0.143396230000000\n",
    ",0.301886790000000\n",
    ",0\n",
    ",0.00377358490000000\n",
    ",0.124528300000000\n",
    ",0.0679245280000000\n",
    ",0.988679250000000\n",
    ",0.0113207550000000\n",
    ",0.671698110000000\n",
    ",0.618867920000000\n",
    ",0.267924530000000\n",
    ",0\n",
    ",1\n",
    ",0.00377358490000000\n",
    ",0.637735850000000\n",
    ",0\n",
    ",0.0264150940000000\n",
    ",0.105660380000000\n",
    ",0.845283020000000\n",
    ",0\n",
    ",0\n",
    ",0\n",
    ",0\n",
    ",0.460377360000000\n",
    ",0)\n",
    "stats.ttest_ind(a, b)"
   ]
  },
  {
   "cell_type": "code",
   "execution_count": 8,
   "metadata": {},
   "outputs": [
    {
     "data": {
      "text/plain": [
       "(756, 1134)"
      ]
     },
     "execution_count": 8,
     "metadata": {},
     "output_type": "execute_result"
    }
   ],
   "source": [
    "a = np.ones([756,9,126])\n",
    "b = a.flatten()\n",
    "b.shape # (857304,)\n",
    "c = b.reshape([756,9*126])\n",
    "c.shape "
   ]
  }
 ],
 "metadata": {
  "kernelspec": {
   "display_name": "Python 3",
   "language": "python",
   "name": "python3"
  },
  "language_info": {
   "codemirror_mode": {
    "name": "ipython",
    "version": 3
   },
   "file_extension": ".py",
   "mimetype": "text/x-python",
   "name": "python",
   "nbconvert_exporter": "python",
   "pygments_lexer": "ipython3",
   "version": "3.7.4"
  }
 },
 "nbformat": 4,
 "nbformat_minor": 4
}
