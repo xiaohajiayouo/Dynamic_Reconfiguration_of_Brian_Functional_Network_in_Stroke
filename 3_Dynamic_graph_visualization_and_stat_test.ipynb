{
 "cells": [
  {
   "cell_type": "code",
   "execution_count": 2,
   "metadata": {},
   "outputs": [
    {
     "name": "stderr",
     "output_type": "stream",
     "text": [
      "D:\\Anaconda3\\lib\\site-packages\\statsmodels\\tools\\_testing.py:19: FutureWarning: pandas.util.testing is deprecated. Use the functions in the public API at pandas.testing instead.\n",
      "  import pandas.util.testing as tm\n"
     ]
    }
   ],
   "source": [
    "import numpy as np\n",
    "import pandas as pd\n",
    "from scipy.io import loadmat\n",
    "import glob\n",
    "import os\n",
    "import sys\n",
    "import matplotlib.pyplot as plt\n",
    "import seaborn as sns\n",
    "sns.set(style=\"white\")\n",
    "\n",
    "from scipy import stats\n",
    "from mne.viz import circular_layout, plot_connectivity_circle\n",
    "import statsmodels.api as sm\n",
    "from statsmodels.formula.api import ols\n",
    "import statsmodels.stats.multicomp\n",
    "import pyreadstat\n",
    "\n",
    "from matplotlib import cm\n",
    "pd.set_option('display.max_columns', 200)\n",
    "pd.set_option('display.max_rows', 200)\n",
    "\n",
    "from mpl_toolkits.axes_grid1.inset_locator import inset_axes\n",
    "from statannot import add_stat_annotation\n",
    "from scipy.stats import ttest_ind, f_oneway\n",
    "import matplotlib.pyplot as plt\n",
    "import os\n",
    "import math\n",
    "\n",
    "from statsmodels.formula.api import ols\n",
    "from statsmodels.stats.anova import anova_lm"
   ]
  },
  {
   "cell_type": "markdown",
   "metadata": {},
   "source": [
    "# variance test"
   ]
  },
  {
   "cell_type": "code",
   "execution_count": null,
   "metadata": {},
   "outputs": [],
   "source": [
    "root_path = r'H:\\Matlab\\Work\\Age\\Gift_FCM\\ICA\\DFNC\\TR_30\\Dmatrix_stat_subjid\\NMA_graph'\n",
    "state_name = ['State1','State2','State3','State4']\n",
    "NMN = ['Assortativity','R_Assortativity','Synchronization','R_Synchronization','Hierarchy','R_Hierarchy',\n",
    "       'gEfficiency','ModularityQ','R_ModularityQ','NumModularity',\n",
    "       'R_NumModularity','Gamma','Lambda','Sigma','ClusteringCOff',\n",
    "       'ShorestPath','LocalEfficiency','Volunerable','EdgeBetwenness']\n",
    "for state in state_name:\n",
    "    with open('./state_top/variance_result.txt','a+') as file:\n",
    "        file.write(f'********************* {state}*****************\\n')\n",
    "        for nmn in NMN:\n",
    "            nam_path = os.path.join(root_path,state,nmn+'.txt')\n",
    "            graph_measrue = np.loadtxt(nam_path) \n",
    "            if nmn == 'gEfficiency':\n",
    "                nmn = 'GlobalEfficiency'\n",
    "            elif nmn == 'Sigma':\n",
    "                 nmn = 'Smallworld'\n",
    "            graph_dict[nmn].extend(graph_measrue.tolist())\n",
    "            f,p = f_oneway(graph_measrue[34:62],graph_measrue[:34])\n",
    "    #         if p<0.05:\n",
    "\n",
    "            file.write(f'==> ==> ==> {nmn}: F: {f},P: {p}\\n')\n",
    "            print(f,p)\n",
    "            \n",
    "            break\n",
    "    break"
   ]
  },
  {
   "cell_type": "code",
   "execution_count": 62,
   "metadata": {},
   "outputs": [],
   "source": []
  },
  {
   "cell_type": "code",
   "execution_count": 125,
   "metadata": {},
   "outputs": [
    {
     "name": "stdout",
     "output_type": "stream",
     "text": [
      "State2 Smallworld\n",
      "-2.5825867448473545 0.012263358287351605\n",
      "State3 Smallworld\n",
      "9.964779415138635 2.4427380504309227e-14\n"
     ]
    }
   ],
   "source": [
    "root_path = r'H:\\Matlab\\Work\\Age\\Gift_FCM\\ICA\\DFNC\\TR_30\\Dmatrix_stat_subjid\\NMA_graph'\n",
    "state_name = ['State1','State2','State3','State4']\n",
    "# NMN = ['Assortativity','R_Assortativity','Synchronization','R_Synchronization','Hierarchy','R_Hierarchy',\n",
    "#        'gEfficiency','ModularityQ','R_ModularityQ','NumModularity',\n",
    "#        'R_NumModularity','Gamma','Lambda','Sigma','ClusteringCOff',\n",
    "#        'ShorestPath','LocalEfficiency','Volunerable','EdgeBetwenness'] # Network Measurement Analysis\n",
    "# auc_name = [['aEg','aEloc'],['aSigma','aCp','aLp'],['arzscore'],['abzscore']]\n",
    "a_groupid = ['Youger']*34 +['Elder']*28+['Youger']*34 +['Elder']*28+['Youger']*34 +['Elder']*28+['Youger']*34 +['Elder']*28\n",
    "state_id = [\"1\"]*62 +[\"2\"]*62+[\"3\"]*62+[\"4\"]*62\n",
    "graph_dict = {}  \n",
    "graph_dict['Age'] =a_groupid\n",
    "graph_dict['State'] =state_id\n",
    "for nmn in NMN:\n",
    "    if nmn == 'gEfficiency':\n",
    "        nmn = 'GlobalEfficiency'\n",
    "    elif nmn == 'Sigma':\n",
    "         nmn = 'Smallworld'\n",
    "    graph_dict[nmn] =[]\n",
    "\n",
    "for state in state_name:\n",
    "    for nmn in NMN:\n",
    "        nam_path = os.path.join(root_path,state,nmn+'.txt')\n",
    "        graph_measrue = np.loadtxt(nam_path) \n",
    "        if nmn == 'gEfficiency':\n",
    "            nmn = 'GlobalEfficiency'\n",
    "        elif nmn == 'Sigma':\n",
    "             nmn = 'Smallworld'\n",
    "        graph_dict[nmn].extend(graph_measrue.tolist())\n",
    "        t,p = ttest_ind(graph_measrue[34:62],graph_measrue[:34],nan_policy = 'omit')\n",
    "        if p<0.05:\n",
    "            print(state,nmn)\n",
    "            print(t,p)\n",
    "#     break"
   ]
  },
  {
   "cell_type": "code",
   "execution_count": 3,
   "metadata": {},
   "outputs": [],
   "source": [
    "nmn_df = pd.DataFrame(graph_dict)\n",
    "# resultfile = r'.\\state_top\\test_result.txt'\n",
    "# with open(resultfile,'a+') as rf:\n",
    "#     rf.write('************t-test independent samples with Bonferroni correction*********** \\n')\n",
    "#     rf.close()"
   ]
  },
  {
   "cell_type": "code",
   "execution_count": 4,
   "metadata": {},
   "outputs": [
    {
     "data": {
      "text/html": [
       "<div>\n",
       "<style scoped>\n",
       "    .dataframe tbody tr th:only-of-type {\n",
       "        vertical-align: middle;\n",
       "    }\n",
       "\n",
       "    .dataframe tbody tr th {\n",
       "        vertical-align: top;\n",
       "    }\n",
       "\n",
       "    .dataframe thead th {\n",
       "        text-align: right;\n",
       "    }\n",
       "</style>\n",
       "<table border=\"1\" class=\"dataframe\">\n",
       "  <thead>\n",
       "    <tr style=\"text-align: right;\">\n",
       "      <th></th>\n",
       "      <th>Age</th>\n",
       "      <th>State</th>\n",
       "      <th>Assortativity</th>\n",
       "      <th>R_Assortativity</th>\n",
       "      <th>Synchronization</th>\n",
       "      <th>R_Synchronization</th>\n",
       "      <th>Hierarchy</th>\n",
       "      <th>R_Hierarchy</th>\n",
       "      <th>GlobalEfficiency</th>\n",
       "      <th>ModularityQ</th>\n",
       "      <th>R_ModularityQ</th>\n",
       "      <th>NumModularity</th>\n",
       "      <th>R_NumModularity</th>\n",
       "      <th>Gamma</th>\n",
       "      <th>Lambda</th>\n",
       "      <th>Smallworld</th>\n",
       "      <th>ClusteringCOff</th>\n",
       "      <th>ShorestPath</th>\n",
       "      <th>LocalEfficiency</th>\n",
       "      <th>Volunerable</th>\n",
       "      <th>EdgeBetwenness</th>\n",
       "    </tr>\n",
       "  </thead>\n",
       "  <tbody>\n",
       "    <tr>\n",
       "      <th>0</th>\n",
       "      <td>Youger</td>\n",
       "      <td>1</td>\n",
       "      <td>NaN</td>\n",
       "      <td>-0.038014</td>\n",
       "      <td>NaN</td>\n",
       "      <td>0.000000</td>\n",
       "      <td>NaN</td>\n",
       "      <td>0.017634</td>\n",
       "      <td>0.126285</td>\n",
       "      <td>NaN</td>\n",
       "      <td>0.001459</td>\n",
       "      <td>NaN</td>\n",
       "      <td>0.75</td>\n",
       "      <td>1.001675</td>\n",
       "      <td>1.217878</td>\n",
       "      <td>0.388119</td>\n",
       "      <td>0.231835</td>\n",
       "      <td>2.322061</td>\n",
       "      <td>2.322061</td>\n",
       "      <td>0.060368</td>\n",
       "      <td>0.489800</td>\n",
       "    </tr>\n",
       "    <tr>\n",
       "      <th>1</th>\n",
       "      <td>Youger</td>\n",
       "      <td>1</td>\n",
       "      <td>NaN</td>\n",
       "      <td>-0.038014</td>\n",
       "      <td>NaN</td>\n",
       "      <td>0.000000</td>\n",
       "      <td>NaN</td>\n",
       "      <td>0.017634</td>\n",
       "      <td>0.126285</td>\n",
       "      <td>NaN</td>\n",
       "      <td>0.001459</td>\n",
       "      <td>NaN</td>\n",
       "      <td>0.75</td>\n",
       "      <td>1.524926</td>\n",
       "      <td>1.219123</td>\n",
       "      <td>0.464838</td>\n",
       "      <td>0.231835</td>\n",
       "      <td>2.322061</td>\n",
       "      <td>2.322061</td>\n",
       "      <td>0.060368</td>\n",
       "      <td>0.489800</td>\n",
       "    </tr>\n",
       "    <tr>\n",
       "      <th>2</th>\n",
       "      <td>Youger</td>\n",
       "      <td>1</td>\n",
       "      <td>4.989563</td>\n",
       "      <td>0.139369</td>\n",
       "      <td>-1.600116</td>\n",
       "      <td>0.010218</td>\n",
       "      <td>-0.662291</td>\n",
       "      <td>0.004166</td>\n",
       "      <td>0.247141</td>\n",
       "      <td>5.139730</td>\n",
       "      <td>0.116337</td>\n",
       "      <td>0.051532</td>\n",
       "      <td>1.70</td>\n",
       "      <td>1.205346</td>\n",
       "      <td>0.520560</td>\n",
       "      <td>1.000281</td>\n",
       "      <td>0.250554</td>\n",
       "      <td>0.936823</td>\n",
       "      <td>0.936823</td>\n",
       "      <td>0.115267</td>\n",
       "      <td>4.597340</td>\n",
       "    </tr>\n",
       "    <tr>\n",
       "      <th>3</th>\n",
       "      <td>Youger</td>\n",
       "      <td>1</td>\n",
       "      <td>NaN</td>\n",
       "      <td>-0.038014</td>\n",
       "      <td>NaN</td>\n",
       "      <td>0.000000</td>\n",
       "      <td>NaN</td>\n",
       "      <td>0.017634</td>\n",
       "      <td>0.126285</td>\n",
       "      <td>NaN</td>\n",
       "      <td>0.001459</td>\n",
       "      <td>NaN</td>\n",
       "      <td>0.75</td>\n",
       "      <td>0.977512</td>\n",
       "      <td>1.212306</td>\n",
       "      <td>0.380016</td>\n",
       "      <td>0.231835</td>\n",
       "      <td>2.322061</td>\n",
       "      <td>2.322061</td>\n",
       "      <td>0.060368</td>\n",
       "      <td>0.489800</td>\n",
       "    </tr>\n",
       "    <tr>\n",
       "      <th>4</th>\n",
       "      <td>Youger</td>\n",
       "      <td>1</td>\n",
       "      <td>4.854386</td>\n",
       "      <td>0.140203</td>\n",
       "      <td>-3.518343</td>\n",
       "      <td>0.003527</td>\n",
       "      <td>-1.492270</td>\n",
       "      <td>-0.010062</td>\n",
       "      <td>0.241354</td>\n",
       "      <td>3.627909</td>\n",
       "      <td>0.096672</td>\n",
       "      <td>0.400876</td>\n",
       "      <td>2.00</td>\n",
       "      <td>1.139492</td>\n",
       "      <td>0.546142</td>\n",
       "      <td>0.900476</td>\n",
       "      <td>0.241449</td>\n",
       "      <td>0.990327</td>\n",
       "      <td>0.990327</td>\n",
       "      <td>0.125958</td>\n",
       "      <td>3.975311</td>\n",
       "    </tr>\n",
       "    <tr>\n",
       "      <th>...</th>\n",
       "      <td>...</td>\n",
       "      <td>...</td>\n",
       "      <td>...</td>\n",
       "      <td>...</td>\n",
       "      <td>...</td>\n",
       "      <td>...</td>\n",
       "      <td>...</td>\n",
       "      <td>...</td>\n",
       "      <td>...</td>\n",
       "      <td>...</td>\n",
       "      <td>...</td>\n",
       "      <td>...</td>\n",
       "      <td>...</td>\n",
       "      <td>...</td>\n",
       "      <td>...</td>\n",
       "      <td>...</td>\n",
       "      <td>...</td>\n",
       "      <td>...</td>\n",
       "      <td>...</td>\n",
       "      <td>...</td>\n",
       "      <td>...</td>\n",
       "    </tr>\n",
       "    <tr>\n",
       "      <th>243</th>\n",
       "      <td>Elder</td>\n",
       "      <td>4</td>\n",
       "      <td>NaN</td>\n",
       "      <td>-0.038014</td>\n",
       "      <td>NaN</td>\n",
       "      <td>0.000000</td>\n",
       "      <td>NaN</td>\n",
       "      <td>0.017634</td>\n",
       "      <td>0.126285</td>\n",
       "      <td>NaN</td>\n",
       "      <td>0.001459</td>\n",
       "      <td>NaN</td>\n",
       "      <td>0.75</td>\n",
       "      <td>1.099971</td>\n",
       "      <td>1.214976</td>\n",
       "      <td>0.398990</td>\n",
       "      <td>0.231835</td>\n",
       "      <td>2.322061</td>\n",
       "      <td>2.322061</td>\n",
       "      <td>0.060368</td>\n",
       "      <td>0.489800</td>\n",
       "    </tr>\n",
       "    <tr>\n",
       "      <th>244</th>\n",
       "      <td>Elder</td>\n",
       "      <td>4</td>\n",
       "      <td>NaN</td>\n",
       "      <td>-0.038014</td>\n",
       "      <td>NaN</td>\n",
       "      <td>0.000000</td>\n",
       "      <td>NaN</td>\n",
       "      <td>0.017634</td>\n",
       "      <td>0.126285</td>\n",
       "      <td>NaN</td>\n",
       "      <td>0.001459</td>\n",
       "      <td>NaN</td>\n",
       "      <td>0.75</td>\n",
       "      <td>1.196491</td>\n",
       "      <td>1.205856</td>\n",
       "      <td>0.422697</td>\n",
       "      <td>0.231835</td>\n",
       "      <td>2.322061</td>\n",
       "      <td>2.322061</td>\n",
       "      <td>0.060368</td>\n",
       "      <td>0.489800</td>\n",
       "    </tr>\n",
       "    <tr>\n",
       "      <th>245</th>\n",
       "      <td>Elder</td>\n",
       "      <td>4</td>\n",
       "      <td>NaN</td>\n",
       "      <td>-0.038014</td>\n",
       "      <td>NaN</td>\n",
       "      <td>0.000000</td>\n",
       "      <td>NaN</td>\n",
       "      <td>0.017634</td>\n",
       "      <td>0.126285</td>\n",
       "      <td>NaN</td>\n",
       "      <td>0.001459</td>\n",
       "      <td>NaN</td>\n",
       "      <td>0.75</td>\n",
       "      <td>0.997924</td>\n",
       "      <td>1.210885</td>\n",
       "      <td>0.380608</td>\n",
       "      <td>0.231835</td>\n",
       "      <td>2.322061</td>\n",
       "      <td>2.322061</td>\n",
       "      <td>0.060368</td>\n",
       "      <td>0.489800</td>\n",
       "    </tr>\n",
       "    <tr>\n",
       "      <th>246</th>\n",
       "      <td>Elder</td>\n",
       "      <td>4</td>\n",
       "      <td>4.417237</td>\n",
       "      <td>0.139530</td>\n",
       "      <td>-4.720521</td>\n",
       "      <td>0.033377</td>\n",
       "      <td>-0.350023</td>\n",
       "      <td>0.014907</td>\n",
       "      <td>0.250074</td>\n",
       "      <td>8.494770</td>\n",
       "      <td>0.152587</td>\n",
       "      <td>0.138873</td>\n",
       "      <td>1.80</td>\n",
       "      <td>1.389488</td>\n",
       "      <td>0.519961</td>\n",
       "      <td>1.103483</td>\n",
       "      <td>0.256762</td>\n",
       "      <td>0.945961</td>\n",
       "      <td>0.945961</td>\n",
       "      <td>0.104785</td>\n",
       "      <td>5.007923</td>\n",
       "    </tr>\n",
       "    <tr>\n",
       "      <th>247</th>\n",
       "      <td>Elder</td>\n",
       "      <td>4</td>\n",
       "      <td>NaN</td>\n",
       "      <td>-0.038014</td>\n",
       "      <td>NaN</td>\n",
       "      <td>0.000000</td>\n",
       "      <td>NaN</td>\n",
       "      <td>0.017634</td>\n",
       "      <td>0.126285</td>\n",
       "      <td>NaN</td>\n",
       "      <td>0.001459</td>\n",
       "      <td>NaN</td>\n",
       "      <td>0.75</td>\n",
       "      <td>1.033579</td>\n",
       "      <td>1.211887</td>\n",
       "      <td>0.390059</td>\n",
       "      <td>0.231835</td>\n",
       "      <td>2.322061</td>\n",
       "      <td>2.322061</td>\n",
       "      <td>0.060368</td>\n",
       "      <td>0.489800</td>\n",
       "    </tr>\n",
       "  </tbody>\n",
       "</table>\n",
       "<p>248 rows × 21 columns</p>\n",
       "</div>"
      ],
      "text/plain": [
       "        Age State  Assortativity  R_Assortativity  Synchronization  \\\n",
       "0    Youger     1            NaN        -0.038014              NaN   \n",
       "1    Youger     1            NaN        -0.038014              NaN   \n",
       "2    Youger     1       4.989563         0.139369        -1.600116   \n",
       "3    Youger     1            NaN        -0.038014              NaN   \n",
       "4    Youger     1       4.854386         0.140203        -3.518343   \n",
       "..      ...   ...            ...              ...              ...   \n",
       "243   Elder     4            NaN        -0.038014              NaN   \n",
       "244   Elder     4            NaN        -0.038014              NaN   \n",
       "245   Elder     4            NaN        -0.038014              NaN   \n",
       "246   Elder     4       4.417237         0.139530        -4.720521   \n",
       "247   Elder     4            NaN        -0.038014              NaN   \n",
       "\n",
       "     R_Synchronization  Hierarchy  R_Hierarchy  GlobalEfficiency  ModularityQ  \\\n",
       "0             0.000000        NaN     0.017634          0.126285          NaN   \n",
       "1             0.000000        NaN     0.017634          0.126285          NaN   \n",
       "2             0.010218  -0.662291     0.004166          0.247141     5.139730   \n",
       "3             0.000000        NaN     0.017634          0.126285          NaN   \n",
       "4             0.003527  -1.492270    -0.010062          0.241354     3.627909   \n",
       "..                 ...        ...          ...               ...          ...   \n",
       "243           0.000000        NaN     0.017634          0.126285          NaN   \n",
       "244           0.000000        NaN     0.017634          0.126285          NaN   \n",
       "245           0.000000        NaN     0.017634          0.126285          NaN   \n",
       "246           0.033377  -0.350023     0.014907          0.250074     8.494770   \n",
       "247           0.000000        NaN     0.017634          0.126285          NaN   \n",
       "\n",
       "     R_ModularityQ  NumModularity  R_NumModularity     Gamma    Lambda  \\\n",
       "0         0.001459            NaN             0.75  1.001675  1.217878   \n",
       "1         0.001459            NaN             0.75  1.524926  1.219123   \n",
       "2         0.116337       0.051532             1.70  1.205346  0.520560   \n",
       "3         0.001459            NaN             0.75  0.977512  1.212306   \n",
       "4         0.096672       0.400876             2.00  1.139492  0.546142   \n",
       "..             ...            ...              ...       ...       ...   \n",
       "243       0.001459            NaN             0.75  1.099971  1.214976   \n",
       "244       0.001459            NaN             0.75  1.196491  1.205856   \n",
       "245       0.001459            NaN             0.75  0.997924  1.210885   \n",
       "246       0.152587       0.138873             1.80  1.389488  0.519961   \n",
       "247       0.001459            NaN             0.75  1.033579  1.211887   \n",
       "\n",
       "     Smallworld  ClusteringCOff  ShorestPath  LocalEfficiency  Volunerable  \\\n",
       "0      0.388119        0.231835     2.322061         2.322061     0.060368   \n",
       "1      0.464838        0.231835     2.322061         2.322061     0.060368   \n",
       "2      1.000281        0.250554     0.936823         0.936823     0.115267   \n",
       "3      0.380016        0.231835     2.322061         2.322061     0.060368   \n",
       "4      0.900476        0.241449     0.990327         0.990327     0.125958   \n",
       "..          ...             ...          ...              ...          ...   \n",
       "243    0.398990        0.231835     2.322061         2.322061     0.060368   \n",
       "244    0.422697        0.231835     2.322061         2.322061     0.060368   \n",
       "245    0.380608        0.231835     2.322061         2.322061     0.060368   \n",
       "246    1.103483        0.256762     0.945961         0.945961     0.104785   \n",
       "247    0.390059        0.231835     2.322061         2.322061     0.060368   \n",
       "\n",
       "     EdgeBetwenness  \n",
       "0          0.489800  \n",
       "1          0.489800  \n",
       "2          4.597340  \n",
       "3          0.489800  \n",
       "4          3.975311  \n",
       "..              ...  \n",
       "243        0.489800  \n",
       "244        0.489800  \n",
       "245        0.489800  \n",
       "246        5.007923  \n",
       "247        0.489800  \n",
       "\n",
       "[248 rows x 21 columns]"
      ]
     },
     "execution_count": 4,
     "metadata": {},
     "output_type": "execute_result"
    }
   ],
   "source": [
    "nmn_df"
   ]
  },
  {
   "cell_type": "code",
   "execution_count": 32,
   "metadata": {},
   "outputs": [
    {
     "name": "stdout",
     "output_type": "stream",
     "text": [
      "                    df      sum_sq    mean_sq          F        PR(>F)\n",
      "C(Age)             1.0    0.868082   0.868082   0.916104  3.404243e-01\n",
      "C(State)           3.0   90.052062  30.017354  31.677909  3.730984e-15\n",
      "C(Age):C(State)    3.0    4.504792   1.501597   1.584666  1.966578e-01\n",
      "Residual         120.0  113.709604   0.947580        NaN           NaN\n",
      "                    df    sum_sq   mean_sq          F        PR(>F)\n",
      "C(Age)             1.0  0.001543  0.001543   0.302407  5.828889e-01\n",
      "C(State)           3.0  0.118714  0.039571   7.753199  5.797124e-05\n",
      "C(Age):C(State)    3.0  0.337166  0.112389  22.020214  1.245367e-12\n",
      "Residual         240.0  1.224934  0.005104        NaN           NaN\n",
      "                    df      sum_sq   mean_sq         F    PR(>F)\n",
      "C(Age)             1.0    9.627185  9.627185  4.801024  0.030375\n",
      "C(State)           3.0    8.186734  2.728911  1.360893  0.258095\n",
      "C(Age):C(State)    3.0    1.442936  0.480979  0.239861  0.868392\n",
      "Residual         120.0  240.628291  2.005236       NaN       NaN\n",
      "                    df    sum_sq   mean_sq          F        PR(>F)\n",
      "C(Age)             1.0  0.002325  0.002325  12.525605  4.819105e-04\n",
      "C(State)           3.0  0.033537  0.011179  60.214218  4.655533e-29\n",
      "C(Age):C(State)    3.0  0.025029  0.008343  44.939190  4.380049e-23\n",
      "Residual         240.0  0.044557  0.000186        NaN           NaN\n",
      "                    df     sum_sq   mean_sq          F        PR(>F)\n",
      "C(Age)             1.0   2.406834  2.406834   8.741886  3.745502e-03\n",
      "C(State)           3.0  17.616869  5.872290  21.328804  3.847162e-11\n",
      "C(Age):C(State)    3.0   0.951201  0.317067   1.151622  3.312634e-01\n",
      "Residual         120.0  33.038643  0.275322        NaN           NaN\n",
      "                    df    sum_sq   mean_sq         F    PR(>F)\n",
      "C(Age)             1.0  0.004834  0.004834  3.731097  0.054586\n",
      "C(State)           3.0  0.021724  0.007241  5.589196  0.001012\n",
      "C(Age):C(State)    3.0  0.001823  0.000608  0.469100  0.704104\n",
      "Residual         240.0  0.310942  0.001296       NaN       NaN\n",
      "                    df    sum_sq   mean_sq          F        PR(>F)\n",
      "C(Age)             1.0  0.002678  0.002678   1.156633  2.832449e-01\n",
      "C(State)           3.0  0.188437  0.062812  27.131777  3.810475e-15\n",
      "C(Age):C(State)    3.0  0.231845  0.077282  33.381856  4.546662e-18\n",
      "Residual         240.0  0.555620  0.002315        NaN           NaN\n",
      "                    df      sum_sq    mean_sq          F    PR(>F)\n",
      "C(Age)             1.0    0.595587   0.595587   0.306261  0.581013\n",
      "C(State)           3.0   62.972619  20.990873  10.793888  0.000002\n",
      "C(Age):C(State)    3.0    1.929606   0.643202   0.330746  0.803125\n",
      "Residual         120.0  233.363989   1.944700        NaN       NaN\n",
      "                    df    sum_sq   mean_sq          F        PR(>F)\n",
      "C(Age)             1.0  0.003800  0.003800   1.578347  2.102205e-01\n",
      "C(State)           3.0  0.195627  0.065209  27.087200  4.003227e-15\n",
      "C(Age):C(State)    3.0  0.250504  0.083501  34.685641  1.168191e-18\n",
      "Residual         240.0  0.577771  0.002407        NaN           NaN\n",
      "                    df    sum_sq   mean_sq          F        PR(>F)\n",
      "C(Age)             1.0  0.155261  0.155261   2.340133  1.287107e-01\n",
      "C(State)           3.0  2.539531  0.846510  12.758841  2.707914e-07\n",
      "C(Age):C(State)    3.0  0.029967  0.009989   0.150555  9.291555e-01\n",
      "Residual         120.0  7.961637  0.066347        NaN           NaN\n",
      "                    df     sum_sq   mean_sq          F        PR(>F)\n",
      "C(Age)             1.0   0.256007  0.256007   1.836382  1.766497e-01\n",
      "C(State)           3.0   8.686431  2.895477  20.769752  5.350333e-12\n",
      "C(Age):C(State)    3.0   9.543142  3.181047  22.818196  4.955266e-13\n",
      "Residual         240.0  33.458008  0.139408        NaN           NaN\n",
      "                    df     sum_sq   mean_sq         F    PR(>F)\n",
      "C(Age)             1.0   0.038367  0.038367  0.896412  0.344706\n",
      "C(State)           3.0   0.051335  0.017112  0.399797  0.753271\n",
      "C(Age):C(State)    3.0   0.103373  0.034458  0.805071  0.492133\n",
      "Residual         238.0  10.186541  0.042801       NaN       NaN\n",
      "                    df     sum_sq   mean_sq          F        PR(>F)\n",
      "C(Age)             1.0   0.062444  0.062444   0.851350  3.570974e-01\n",
      "C(State)           3.0   5.316225  1.772075  24.160207  1.067831e-13\n",
      "C(Age):C(State)    3.0   6.887986  2.295995  31.303261  4.095509e-17\n",
      "Residual         240.0  17.603243  0.073347        NaN           NaN\n",
      "                    df     sum_sq   mean_sq          F        PR(>F)\n",
      "C(Age)             1.0   0.141118  0.141118   2.180607  1.410813e-01\n",
      "C(State)           3.0   3.527644  1.175881  18.170132  1.192070e-10\n",
      "C(Age):C(State)    3.0   4.693708  1.564569  24.176272  1.081807e-13\n",
      "Residual         238.0  15.402188  0.064715        NaN           NaN\n",
      "                    df    sum_sq   mean_sq          F        PR(>F)\n",
      "C(Age)             1.0  0.000009  0.000009   0.096836  7.559298e-01\n",
      "C(State)           3.0  0.008087  0.002696  30.328716  1.163622e-16\n",
      "C(Age):C(State)    3.0  0.000794  0.000265   2.977554  3.223734e-02\n",
      "Residual         240.0  0.021333  0.000089        NaN           NaN\n",
      "                    df     sum_sq   mean_sq          F        PR(>F)\n",
      "C(Age)             1.0   0.261263  0.261263   0.890158  3.463832e-01\n",
      "C(State)           3.0  21.594823  7.198274  24.525452  7.054869e-14\n",
      "C(Age):C(State)    3.0  27.703128  9.234376  31.462713  3.455185e-17\n",
      "Residual         240.0  70.440531  0.293502        NaN           NaN\n",
      "                    df     sum_sq   mean_sq          F        PR(>F)\n",
      "C(Age)             1.0   0.261263  0.261263   0.890158  3.463832e-01\n",
      "C(State)           3.0  21.594823  7.198274  24.525452  7.054869e-14\n",
      "C(Age):C(State)    3.0  27.703128  9.234376  31.462713  3.455185e-17\n",
      "Residual         240.0  70.440531  0.293502        NaN           NaN\n",
      "                    df    sum_sq   mean_sq          F        PR(>F)\n",
      "C(Age)             1.0  0.000006  0.000006   0.010358  9.190208e-01\n",
      "C(State)           3.0  0.014523  0.004841   8.437741  2.363692e-05\n",
      "C(Age):C(State)    3.0  0.020915  0.006972  12.151630  1.973646e-07\n",
      "Residual         240.0  0.137695  0.000574        NaN           NaN\n",
      "                    df      sum_sq    mean_sq          F        PR(>F)\n",
      "C(Age)             1.0    6.636287   6.636287   2.493995  1.155983e-01\n",
      "C(State)           3.0  233.037681  77.679227  29.192772  3.974740e-16\n",
      "C(Age):C(State)    3.0  288.922547  96.307516  36.193503  2.471806e-19\n",
      "Residual         240.0  638.617479   2.660906        NaN           NaN\n"
     ]
    }
   ],
   "source": [
    "with open('./state_top/2variance_result.txt','a+') as rf:\n",
    "#     rf.write('************t-test independent samples with Bonferroni correction*********** \\n')\n",
    "#     rf.close()\n",
    "    for nmn in NMN:\n",
    "        if nmn == 'gEfficiency':\n",
    "            nmn = 'GlobalEfficiency'\n",
    "        elif nmn == 'Sigma':\n",
    "             nmn = 'Smallworld'\n",
    "        rf.write(f'\\n********************* {nmn}***************** \\n')\n",
    "        formura = f\"{nmn}~C(Age)+C(State)+C(Age):C(State)\"\n",
    "        anova_result = anova_lm(ols(formura,nmn_df).fit())\n",
    "        f1 = anova_result['F'][0]\n",
    "        f2 = anova_result['F'][1]\n",
    "        f3 = anova_result['F'][2]\n",
    "        p1 = anova_result['PR(>F)'][0] \n",
    "        p2 = anova_result['PR(>F)'][1]\n",
    "        p3 = anova_result['PR(>F)'][2]\n",
    "        rf.write(f'==> ==> ==>F_age: {f1}, P:{p1}, {p1 <0.05}\\n')\n",
    "        rf.write(f'==> ==> ==>F_state: {f2},P:{p2}, {p2 <0.05}\\n')\n",
    "        \n",
    "        rf.write(f'==> ==> ==>F_com: {f3},P:{p3}, {p3 <0.05}\\n')\n",
    "        print(anova_result)\n",
    "        \n",
    "    rf.close()"
   ]
  },
  {
   "cell_type": "code",
   "execution_count": 22,
   "metadata": {},
   "outputs": [
    {
     "ename": "SyntaxError",
     "evalue": "invalid syntax (<ipython-input-22-0e6e91a5b14a>, line 1)",
     "output_type": "error",
     "traceback": [
      "\u001b[1;36m  File \u001b[1;32m\"<ipython-input-22-0e6e91a5b14a>\"\u001b[1;36m, line \u001b[1;32m1\u001b[0m\n\u001b[1;33m    print(f'{anova_result['PR(>F)'][0]}')\u001b[0m\n\u001b[1;37m                            ^\u001b[0m\n\u001b[1;31mSyntaxError\u001b[0m\u001b[1;31m:\u001b[0m invalid syntax\n"
     ]
    }
   ],
   "source": [
    "print(f'{anova_result['PR(>F)'][0]}')"
   ]
  },
  {
   "cell_type": "code",
   "execution_count": null,
   "metadata": {},
   "outputs": [],
   "source": [
    "# graph_dict\n",
    "def test_draw(nmn_df,nmn_name):\n",
    "    for ylabel in nmn_name:\n",
    "        ax = sns.violinplot(x='State', y=f'{ylabel}', hue='Age', data=nmn_df,\n",
    "                       order=None, hue_order=None, bw='scott',\n",
    "                       cut=2, scale='area', scale_hue=True, gridsize=100, \n",
    "                       width=0.8,inner='box', split=False, dodge=True,\n",
    "                       orient=None, linewidth=None,color=None, palette='Set2',\n",
    "                       saturation=0.75, ax=None)\n",
    "\n",
    "\n",
    "        pairs= [ \n",
    "                #((\"1\",\"Youger\"),(\"1\",\"Elder\")),\n",
    "                ((\"2\",\"Youger\"),(\"2\",\"Elder\")),\\\n",
    "                #((\"3\",\"Youger\"),(\"3\",\"Elder\")),\\\n",
    "               #((\"4\",\"Youger\"),(\"4\",\"Elder\")),\n",
    "                ]\n",
    "        sns.despine(ax =ax)\n",
    "# test = ttest_ind(permutations=5000)\n",
    "        ax, test_results = add_stat_annotation(ax, box_pairs = pairs, data = nmn_df,\n",
    "                    test='t-test_ind',\n",
    "#                     perform_stat_test=False, \n",
    "#                     pvalues=[0.000199960007998400,0.000199960007998400],\n",
    "#                             test_short_name='test',\n",
    "                            text_format='star',\n",
    "                    line_offset_to_box= 0.2, line_offset=0.01, line_height=0.01, text_offset=0.08,\n",
    "                    loc='inside',x=\"State\", y=f'{ylabel}',hue ='Age',verbose=2)\n",
    "\n",
    "#         plt.savefig(f'.\\state_top\\\\{ylabel}.png', dpi=300, bbox_inches='tight')\n",
    "#         plt.close()\n",
    "        \n",
    "#         resultfile = r'.\\state_top\\test_result.txt'\n",
    "#         with open(resultfile,'a+') as rf:\n",
    "#             rf.write(f'*********************{ylabel}***************** \\n')\n",
    "#             for tr in test_results:\n",
    "#                 rf.write(f'\\t \\t \\t state:{tr.box1[0]} {str(tr.formatted_output)}, {tr.pval<0.05} \\n')\n",
    "#         rf.close()\n",
    "        \n",
    "        plt.savefig(f'./state_top/{ylabel}.png', dpi=300, bbox_inches='tight')\n",
    "        plt.close()\n",
    "        \n",
    "        \n",
    "# test_draw(nmn_df,NMN)\n",
    "\n",
    "draw_list = ['LocalEfficiency','gEfficiency','ClusteringCOff','R_ModularityQ', 'R_NumModularity'\n",
    "             ,'R_Assortativity','R_Synchronization','Sigma','Volunerable']\n",
    "test_draw(nmn_df,draw_list)"
   ]
  },
  {
   "cell_type": "code",
   "execution_count": null,
   "metadata": {},
   "outputs": [],
   "source": [
    "floor(0/3)"
   ]
  },
  {
   "cell_type": "code",
   "execution_count": 102,
   "metadata": {},
   "outputs": [
    {
     "name": "stdout",
     "output_type": "stream",
     "text": [
      "p-value annotation legend:\n",
      "ns: 5.00e-02 < p <= 1.00e+00\n",
      "*: 1.00e-02 < p <= 5.00e-02\n",
      "**: 1.00e-03 < p <= 1.00e-02\n",
      "***: 1.00e-04 < p <= 1.00e-03\n",
      "****: p <= 1.00e-04\n",
      "\n",
      "2_Youger v.s. 2_Elder: t-test independent samples with Bonferroni correction, P_val=1.676e-02 stat=2.727e+00\n",
      "3_Youger v.s. 3_Elder: t-test independent samples with Bonferroni correction, P_val=6.231e-15 stat=-1.051e+01\n",
      "p-value annotation legend:\n",
      "ns: 5.00e-02 < p <= 1.00e+00\n",
      "*: 1.00e-02 < p <= 5.00e-02\n",
      "**: 1.00e-03 < p <= 1.00e-02\n",
      "***: 1.00e-04 < p <= 1.00e-03\n",
      "****: p <= 1.00e-04\n",
      "\n",
      "2_Youger v.s. 2_Elder: t-test independent samples with Bonferroni correction, P_val=1.361e-02 stat=-2.564e+00\n"
     ]
    }
   ],
   "source": [
    "# draw_list = ['GlobalEfficiency','LocalEfficiency','ClusteringCOff','R_ModularityQ', 'R_NumModularity'\n",
    "#              ,'R_Assortativity', 'R_Synchronization' ,'Smallworld','Volunerable']\n",
    "draw_list = ['R_Synchronization','Hierarchy']\n",
    "F1 = [['F_age  =  12.52,P = 0.0004','F_state = 60.21,P = 0.0000'],['F_age = 8.7418,P = 0.0037','F_state = 21.3288,P = 0.0000']]\n",
    "\n",
    "# test_draw(nmn_df,draw_list)\n",
    "test_draw_subplot(nmn_df,draw_list,F1)"
   ]
  },
  {
   "cell_type": "code",
   "execution_count": 100,
   "metadata": {},
   "outputs": [],
   "source": [
    "# graph_dict\n",
    "def test_draw_subplot(nmn_df,nmn_name,F1):\n",
    "#     print(nmn_name)\n",
    "    fig = plt.figure(figsize=(15, 6), facecolor='white')\n",
    "    for num,ylabel in enumerate(nmn_name):\n",
    "        \n",
    "        plt.subplot(1,2,num+1)\n",
    "        ax = sns.violinplot(x='State', y=f'{ylabel}', hue='Age', data=nmn_df,\n",
    "                       order=None, hue_order=None, bw='scott',\n",
    "                       cut=2, scale='area', scale_hue=True, gridsize=100, \n",
    "                       width=0.8,inner='box', split=False, dodge=True,\n",
    "                       orient=None, linewidth=None,color=None, palette='Set2',\n",
    "                       saturation=0.75, ax=None)\n",
    "        sns.despine(ax =ax)\n",
    "        if num == 1:\n",
    "            pairs= [ \n",
    "                    #((\"1\",\"Youger\"),(\"1\",\"Elder\")),\n",
    "                    ((\"2\",\"Youger\"),(\"2\",\"Elder\")),\\\n",
    "                    #((\"3\",\"Youger\"),(\"3\",\"Elder\")),\\\n",
    "                   #((\"4\",\"Youger\"),(\"4\",\"Elder\")),\n",
    "                    ]\n",
    "            txta = 1.0\n",
    "            txtb = -3.3\n",
    "            ax, test_results = add_stat_annotation(ax, box_pairs = pairs, data = nmn_df,\n",
    "                    test='t-test_ind',\n",
    "#                     perform_stat_test=False, \n",
    "#                     pvalues=[0.000199960007998400,0.000199960007998400],\n",
    "#                             test_short_name='test',\n",
    "                            text_format='star',\n",
    "                    line_offset_to_box= 0.2, line_offset=0.01, line_height=0.01, text_offset=0.08,\n",
    "                    loc='inside',x=\"State\", y=f'{ylabel}',hue ='Age',verbose=2)\n",
    "            \n",
    "            s = F1[num]\n",
    "            for s1 in s:\n",
    "                plt.text(txta,txtb,s1,fontsize=12)\n",
    "                txtb = txtb-0.3\n",
    "            \n",
    "        else:\n",
    "                pairs= [ \n",
    "                    #((\"1\",\"Youger\"),(\"1\",\"Elder\")),\n",
    "                    ((\"2\",\"Youger\"),(\"2\",\"Elder\")),\\\n",
    "                    ((\"3\",\"Youger\"),(\"3\",\"Elder\")),\\\n",
    "                   #((\"4\",\"Youger\"),(\"4\",\"Elder\")),\n",
    "                    ]\n",
    "                txta = 2.4\n",
    "                txtb = -0.020\n",
    "                ax, test_results = add_stat_annotation(ax, box_pairs = pairs, data = nmn_df,\n",
    "                    test='t-test_ind',\n",
    "#                     perform_stat_test=False, \n",
    "#                     pvalues=[0.000199960007998400,0.000199960007998400],\n",
    "#                             test_short_name='test',\n",
    "                            text_format='star',\n",
    "                    line_offset_to_box= 0.2, line_offset=0.01, line_height=0.01, text_offset=0.08,\n",
    "                    loc='inside',x=\"State\", y=f'{ylabel}',hue ='Age',verbose=2)\n",
    "                s = F1[num]\n",
    "                for s1 in s:\n",
    "                    plt.text(txta,txtb,s1,fontsize=12)\n",
    "                    txtb = txtb-0.0070\n",
    "        \n",
    "# test = ttest_ind(permutations=5000)\n",
    "       \n",
    "        \n",
    "#         plt.savefig(f'.\\state_top\\State_Grpah.png', dpi=300, bbox_inches='tight')\n",
    "#     plt.close()\n",
    "        \n",
    "#         resultfile = r'.\\state_top\\test_result.txt'\n",
    "#         with open(resultfile,'a+') as rf:\n",
    "#             rf.write(f'*********************{ylabel}***************** \\n')\n",
    "#             for tr in test_results:\n",
    "#                 rf.write(f'\\t \\t \\t state:{tr.box1[0]} {str(tr.formatted_output)}, {tr.pval<0.05} \\n')\n",
    "#         rf.close()\n",
    "        \n",
    "    plt.savefig(f'./state_top/F.png', dpi=300, bbox_inches='tight')\n",
    "    plt.close()"
   ]
  },
  {
   "cell_type": "code",
   "execution_count": null,
   "metadata": {},
   "outputs": [],
   "source": [
    "def test_and_draw(root_path,nmn,auc_name,state_name): # nmn network measure name\n",
    "#     f=plt.figure()\n",
    "#     num_of_plot = len(auc_name)\n",
    "    \n",
    "    for num,auc in enumerate(auc_name):\n",
    "#         f.add_subplot(num_of_plot,1,num+1)\n",
    "        nmn_dict = {}\n",
    "        nmn_dict[\"Age\"]= a_groupid\n",
    "        nmn_dict['State'] = state_id \n",
    "        state_base_auc =[]\n",
    "        for sname in state_name:\n",
    "            nma_path = os.path.join(root_path,sname,nmn,auc)+'.txt'\n",
    "            nm_value = np.loadtxt(nma_path)\n",
    "            nm_value[np.isnan(nm_value)] = 0\n",
    "            state_base_auc.extend(nm_value)\n",
    "            print(nma_path)\n",
    "        print(len(state_base_auc))\n",
    "        ylabel = auc[1:]\n",
    "        nmn_dict[f'{ylabel}'] = state_base_auc\n",
    "        nmn_df = pd.DataFrame(nmn_dict)\n",
    "        print(nmn_df)\n",
    "        \n",
    "        ax = sns.violinplot(x='State', y=f'{ylabel}', hue='Age', data=nmn_df,\n",
    "                   order=None, hue_order=None, bw='scott',\n",
    "                   cut=2, scale='area', scale_hue=True, gridsize=100, \n",
    "                   width=0.8,inner='box', split=False, dodge=True,\n",
    "                   orient=None, linewidth=None,color=None, palette='Set2',\n",
    "                   saturation=0.75, ax=None)\n",
    "        \n",
    "        \n",
    "        pairs= [ \n",
    "                #((\"1\",\"Youger\"),(\"1\",\"Elder\")),\n",
    "                ((\"2\",\"Youger\"),(\"2\",\"Elder\")),\\\n",
    "                ((\"3\",\"Youger\"),(\"3\",\"Elder\")),\\\n",
    "               #((\"4\",\"Youger\"),(\"4\",\"Elder\")),\n",
    "                ]\n",
    "        sns.despine(ax =ax)\n",
    "# test = ttest_ind(permutations=5000)\n",
    "        add_stat_annotation(ax, box_pairs = pairs, data = nmn_df,\n",
    "                    test='t-test_ind',\n",
    "#                     perform_stat_test=False, \n",
    "#                     pvalues=[0.000199960007998400,0.000199960007998400],\n",
    "#                             test_short_name='test',\n",
    "                            text_format='star',\n",
    "                    line_offset_to_box= 0.2, line_offset=0.01, line_height=0.01, text_offset=0.08,\n",
    "                    loc='inside',x=\"State\", y=f'{ylabel}',hue ='Age',verbose=2)\n",
    "        \n",
    "        plt.savefig(f'{nmn}_{ylabel}.png', dpi=300, bbox_inches='tight')\n",
    "        plt.close()\n",
    "        \n",
    "test_and_draw(root_path,NMN[0],auc_name[0],state_name)\n",
    "\n",
    "# 'Hierarchy' 2： P_val=4.034e-04 stat=-4.166e+00  3：P_val=6.380e-03 stat=3.307e+00\n",
    "# 'Assortativity' 2：P_val=2.693e-04 stat=4.284e+00  3：P_val=7.602e-11 stat=-8.241e+00\n",
    "# 'SmallWorld'  Cp: 2: P_val=1.025e-03 stat=3.887e+00 3:P_val=1.436e-16 stat=-1.173e+01\n",
    "#               lp = 2: P_val=2.768e-02 stat=2.797e+00  3:P_val=1.436e-16 stat=-1.173e+01\n",
    "#               sigma = 2:P_val=6.819e-05 stat=4.676e+00 3:P_val=3.228e-15 stat=-1.088e+0\n",
    "\n",
    "\n",
    "# global : 2_Youger v.s. 2_Elder: t-test independent samples with Bonferroni correction, P_val=7.180e-03 stat=3.268e+00\n",
    "        # 1_Youger v.s. 1_Elder: t-test independent samples with Bonferroni correction, P_val=1.000e+00 stat=7.783e-01\n",
    "        # 3_Youger v.s. 3_Elder: t-test independent samples with Bonferroni correction, P_val=7.294e-12 stat=-8.842e+00\n",
    "        # 4_Youger v.s. 4_Elder: t-test independent samples with Bonferroni correction, P_val=1.000e+00 stat=9.604e-01\n",
    "        \n",
    "#  local: 2_Youger v.s. 2_Elder: t-test independent samples with Bonferroni correction, P_val=2.788e-03 stat=3.576e+00\n",
    "        # 1_Youger v.s. 1_Elder: t-test independent samples with Bonferroni correction, P_val=1.000e+00 stat=9.731e-01\n",
    "        # 3_Youger v.s. 3_Elder: t-test independent samples with Bonferroni correction, P_val=7.095e-13 stat=-9.445e+00\n",
    "        # 4_Youger v.s. 4_Elder: t-test independent samples with Bonferroni correction, P_val=1.000e+00 stat=9.053e-01"
   ]
  },
  {
   "cell_type": "markdown",
   "metadata": {},
   "source": [
    "# Network"
   ]
  },
  {
   "cell_type": "code",
   "execution_count": 39,
   "metadata": {},
   "outputs": [],
   "source": [
    "age = pd.read_excel(r'H:\\Jupyter\\Age\\age.xlsx')\n",
    "y_data = age['label'].tolist()\n",
    "y_data = np.array(y_data)\n",
    "ages =np.array(age['Age_Years']) "
   ]
  },
  {
   "cell_type": "code",
   "execution_count": 40,
   "metadata": {},
   "outputs": [
    {
     "data": {
      "text/plain": [
       "array([22, 22, 26, 20, 32, 19, 19, 20, 20, 24, 21, 22, 21, 22, 19, 20, 22,\n",
       "       29, 20, 30, 21, 20, 32, 21, 20, 21, 19, 23, 24, 23, 24, 20, 19, 18,\n",
       "       65, 78, 75, 73, 80, 71, 72, 65, 78, 66, 67, 66, 64, 75, 69, 66, 61,\n",
       "       63, 73, 77, 68, 70, 68, 74, 75, 72, 61, 63], dtype=int64)"
      ]
     },
     "execution_count": 40,
     "metadata": {},
     "output_type": "execute_result"
    }
   ],
   "source": [
    "ages"
   ]
  },
  {
   "cell_type": "code",
   "execution_count": 77,
   "metadata": {},
   "outputs": [],
   "source": [
    "measure = np.nan_to_num(subj_graph['Sigma'])"
   ]
  },
  {
   "cell_type": "code",
   "execution_count": 124,
   "metadata": {},
   "outputs": [
    {
     "name": "stdout",
     "output_type": "stream",
     "text": [
      "5.477481832229394 6.685252024224927e-08\n"
     ]
    },
    {
     "data": {
      "image/png": "[encoded data removed]",
      "text/plain": [
       "<Figure size 1944x1512 with 1 Axes>"
      ]
     },
     "metadata": {},
     "output_type": "display_data"
    }
   ],
   "source": [
    "root_path = r'H:\\Matlab\\Work\\Age\\Gift_FCM\\ICA\\DFNC\\TR_30\\Dgraph'\n",
    "# state_name = ['State1','State2','State3','State4']\n",
    "# NMN = ['gEfficiency','LocalEfficiency','Synchronization','Hierarchy','NumModularity','ModularityQ',\n",
    "#        'ShorestPath','ClusteringCOff','EdgeBetwenness'] \n",
    "# NMN = ['ShorestPath','ClusteringCOff'] \n",
    "NMN = ['Sigma']\n",
    "# NMN = ['Assortativity','R_Assortativity','Synchronization','R_Synchronization','Hierarchy','R_Hierarchy',\n",
    "#        'gEfficiency','ModularityQ','R_ModularityQ','NumModularity',\n",
    "#        'R_NumModularity','Gamma','Lambda','Sigma','ClusteringCOff',\n",
    "#        'ShorestPath','LocalEfficiency','Volunerable','EdgeBetwenness']\n",
    "fig = plt.figure(figsize=(27, 21), facecolor='white')\n",
    "# for state in state_name:\n",
    "subjs = []\n",
    "for i in range(62):\n",
    "    if i+1<10:\n",
    "        subjs.append(f'sub_00{i+1}')\n",
    "    else:\n",
    "        subjs.append(f'sub_0{i+1}')\n",
    "\n",
    "subj_graph ={} \n",
    "# file.write(f'********************* {state}*****************\\n')\n",
    "for num,nmn in enumerate(NMN):\n",
    "#     print(nmn)\n",
    "#     with open(f'./state_top/dgraph/tp_dgraph.txt','a+') as file:\n",
    "        subj_graph[nmn] =[]\n",
    "        for subj_name in subjs:\n",
    "    #         print(nmn)\n",
    "            nam_path = os.path.join(root_path,subj_name,nmn+'.txt')\n",
    "    #         print(nam_path)\n",
    "            graph_measrue = np.loadtxt(nam_path) \n",
    "    #         print(graph_measrue.shape)\n",
    "    #             file.writelines(f'{graph_measrue} \\n')\n",
    "            subj_graph[nmn].append(graph_measrue) \n",
    "        measures = np.nan_to_num(np.array(subj_graph[nmn]))\n",
    "        \n",
    "        y_avg = np.mean(np.array(measures)[:34],0) \n",
    "        e_avg = np.mean(np.array(measures)[34:62],0)\n",
    "        age_mea = np.mean(np.array(subj_graph[nmn]),1)\n",
    "        t,p = ttest_ind(e_avg,y_avg,nan_policy='omit')\n",
    "#         try:\n",
    "# #             r,rp = stats.pearsonr(ages,age_mea)\n",
    "#     #         print(t,p)\n",
    "# #             file.write(f'{nmn}, T:{t},  P:{p}; Corrleation:{r},P:{rp} \\n')\n",
    "#             file.write(f'{nmn}, T:{t},  P:{p}\\n')\n",
    "#         except Exception:\n",
    "#             pass\n",
    "        plt.subplot(3,3,num+1)\n",
    "        print(t,p)\n",
    "        plt.plot([i+1 for i in range(265)],y_avg,label = 'Younger',linewidth=2.0)\n",
    "        plt.plot([i+1 for i in range(265)],e_avg,label = 'Elder',linewidth=2.0)\n",
    "        font2 = { #'family' : 'Times New Roman',\n",
    "    'weight' : 'normal',\n",
    "    'size' : 12,\n",
    "    }\n",
    "        plt.xlabel(\"Time(TR)\", font2)\n",
    "        if nmn == 'gEfficiency':\n",
    "                nmn = 'GlobalEfficiency'\n",
    "        elif nmn == 'EdgeBetwenness':\n",
    "                nmn = 'Betwenness'\n",
    "        plt.ylabel(f\"{nmn}\",  font2)\n",
    "        plt.legend()\n",
    "#     plt.savefig(f'./state_top/dgraph/{nmn}.png', dpi=300, bbox_inches='tight')\n",
    "\n",
    "# plt.savefig(f'./state_top/dgraph/smallworld.png', dpi=300, bbox_inches='tight')\n",
    "# plt.show()\n",
    "# plt.close()\n",
    "    \n",
    "#     np.savetxt(f'./state_top/dgraph/{nmn}.txt', subj_graph[nmn],  delimiter=',')"
   ]
  },
  {
   "cell_type": "code",
   "execution_count": 100,
   "metadata": {},
   "outputs": [
    {
     "data": {
      "text/plain": [
       "521"
      ]
     },
     "execution_count": 100,
     "metadata": {},
     "output_type": "execute_result"
    }
   ],
   "source": [
    "c = np.concatenate([y_avg,e_avg],0) \n",
    "len(sigma_dict['Age'])"
   ]
  },
  {
   "cell_type": "code",
   "execution_count": 118,
   "metadata": {},
   "outputs": [
    {
     "data": {
      "text/plain": [
       "<matplotlib.axes._subplots.AxesSubplot at 0x19d31029cc8>"
      ]
     },
     "execution_count": 118,
     "metadata": {},
     "output_type": "execute_result"
    },
    {
     "data": {
      "image/png": "[encoded data removed]",
      "text/plain": [
       "<Figure size 432x288 with 1 Axes>"
      ]
     },
     "metadata": {
      "needs_background": "light"
     },
     "output_type": "display_data"
    }
   ],
   "source": [
    "sigma_dict  ={}\n",
    "sigma_dict['Age'] = ['younger']*265  +['Elder']*265\n",
    "# sigma_dict['Time'] =  ['0-25']*25 + ['26-50']*25 + ['51-75']*25+ ['76-100']*25+ ['101-125']*25+ ['126-150']*25+ ['151-176']*25+ ['175-200']*25  \\\n",
    "#   +['200-225']*25+ ['225-265']*40 + ['0-25']*25 + ['26-50']*25 + ['51-75']*25+ ['76-100']*25+ ['101-125']*25+ ['126-150']*25+ ['151-176']*25+ ['175-200']*25 \\\n",
    "#   +['200-225']*25+ ['225-265']*40\n",
    "\n",
    "\n",
    "sigma_dict['Time'] = ['0-50']*50 + ['51-100']*50 + ['101-150']*50 + ['151-200']*50 + ['201-265']*65+ \\\n",
    "['0-50']*50 + ['51-100']*50 + ['101-150']*50 + ['151-200']*50 + ['201-265']*65\n",
    "sigma_dict['SmallWorldness'] = np.concatenate([y_avg,e_avg],0)\n",
    "sigma_df = pd.DataFrame(sigma_dict)\n",
    "sns.barplot(x = 'Time',y = 'SmallWorldness', hue = 'Age', data = sigma_df)"
   ]
  },
  {
   "cell_type": "code",
   "execution_count": 73,
   "metadata": {},
   "outputs": [],
   "source": [
    "age_mea = np.mean(np.array(subj_graph[nmn]),1)"
   ]
  },
  {
   "cell_type": "code",
   "execution_count": 74,
   "metadata": {},
   "outputs": [
    {
     "data": {
      "text/plain": [
       "(62,)"
      ]
     },
     "execution_count": 74,
     "metadata": {},
     "output_type": "execute_result"
    }
   ],
   "source": [
    "age_mea.shape"
   ]
  },
  {
   "cell_type": "code",
   "execution_count": 70,
   "metadata": {},
   "outputs": [
    {
     "data": {
      "text/plain": [
       "(265,)"
      ]
     },
     "execution_count": 70,
     "metadata": {},
     "output_type": "execute_result"
    }
   ],
   "source": [
    "# subjs H:\\Matlab\\Work\\Age\\Gift_FCM\\ICA\\DFNC\\TR_30\\Dgraph\\sub_001\n",
    "# c= np.array(subj_graph['Assortativity'])\n",
    "# c\n",
    "# subj_graph\n",
    "# measures.shape\n",
    "# measures[:34].shape\n",
    "y_avg = np.mean(np.array(subj_graph[nmn])[:34],0) \n",
    "y_avg.shape\n",
    "# e_avg = np.mean(np.array(subj_graph[nmn])[34:62],0)"
   ]
  },
  {
   "cell_type": "code",
   "execution_count": 166,
   "metadata": {},
   "outputs": [
    {
     "data": {
      "text/plain": [
       "(265,)"
      ]
     },
     "execution_count": 166,
     "metadata": {},
     "output_type": "execute_result"
    }
   ],
   "source": [
    "y_avg .shape"
   ]
  },
  {
   "cell_type": "code",
   "execution_count": null,
   "metadata": {},
   "outputs": [],
   "source": [
    "Nodal"
   ]
  },
  {
   "cell_type": "code",
   "execution_count": 3,
   "metadata": {},
   "outputs": [
    {
     "name": "stdout",
     "output_type": "stream",
     "text": [
      "(62, 265, 60)\n",
      "(62, 265, 60)\n",
      "(62, 265, 60)\n"
     ]
    },
    {
     "data": {
      "text/plain": [
       "<Figure size 1080x1080 with 0 Axes>"
      ]
     },
     "metadata": {},
     "output_type": "display_data"
    }
   ],
   "source": [
    "root_path = r'H:\\Matlab\\Work\\Age\\Gift_FCM\\ICA\\DFNC\\TR_30\\Dnodalgraph'\n",
    "# state_name = ['State1','State2','State3','State4']\n",
    "NMN = ['LocalEfficiency','Volunerable1','nodalBetwenness']\n",
    "fig = plt.figure(figsize=(15, 15), facecolor='white')\n",
    "# for state in state_name:\n",
    "subjs = []\n",
    "for i in range(62):\n",
    "    if i+1<10:\n",
    "        subjs.append(f'sub_00{i+1}')\n",
    "    else:\n",
    "        subjs.append(f'sub_0{i+1}')\n",
    "nodalsubj_graph ={} \n",
    "# file.write(f'********************* {state}*****************\\n')\n",
    "for num,nmn in enumerate(NMN):\n",
    "#     print(nmn)\n",
    "    nodalsubj_graph[nmn] =[]\n",
    "    for subj_name in subjs:\n",
    "#         print(nmn)\n",
    "        nam_path = os.path.join(root_path,subj_name,nmn+'.txt')\n",
    "#         print(nam_path)\n",
    "        nodalgraph_measrue = np.loadtxt(nam_path)\n",
    "        nodalsubj_graph[nmn].append(nodalgraph_measrue) \n",
    "    measures = np.array(nodalsubj_graph[nmn])\n",
    "    print(measures.shape)"
   ]
  },
  {
   "cell_type": "code",
   "execution_count": 50,
   "metadata": {},
   "outputs": [
    {
     "data": {
      "image/png": "[encoded data removed]",
      "text/plain": [
       "<Figure size 1296x576 with 3 Axes>"
      ]
     },
     "metadata": {},
     "output_type": "display_data"
    }
   ],
   "source": [
    "axis = [0,11,17,29,47,54,60]\n",
    "domain = ['DMN','SMN','VIS','CC',\"SC\",\"AUD\"]\n",
    "\n",
    "fig = plt.figure(figsize=(18, 8), facecolor='white')\n",
    "for num,nmn in enumerate(NMN):\n",
    "    y_nodalavg = np.mean(np.array(nodalsubj_graph[nmn])[:34],0) \n",
    "    e_nodalavg = np.mean(np.array(nodalsubj_graph[nmn])[34:62],0)\n",
    "    ax = plt.subplot(2,3,num+1)\n",
    "    y_nodal = np.mean(y_nodalavg[:,0:11],axis = 1)\n",
    "    e_nodal = np.mean(e_nodalavg[:,0:11],axis = 1)\n",
    "    plt.plot([i+1 for i in range(265)],y_nodal,label = 'Younger',linewidth=2.0)\n",
    "    plt.plot([i+1 for i in range(265)],e_nodal,label = 'Elder',linewidth=2.0)\n",
    "    plt.xlabel(\"Time(TR)\",  size = 13)\n",
    "    plt.ylabel(f\"DMN\", size = 13)\n",
    "    plt.legend()\n",
    "    if nmn=='Volunerable1':\n",
    "        ax.set_title('Vulnerable')\n",
    "    else:\n",
    "        ax.set_title(f'{nmn}')\n",
    "\n",
    "# plt.savefig(f'./state_top/dgraph/nodal_DMN_dgraph.png', dpi=300, bbox_inches='tight')\n",
    "# plt.show()"
   ]
  },
  {
   "cell_type": "code",
   "execution_count": 122,
   "metadata": {},
   "outputs": [
    {
     "data": {
      "text/plain": [
       "(62, 60)"
      ]
     },
     "execution_count": 122,
     "metadata": {},
     "output_type": "execute_result"
    }
   ],
   "source": [
    "e_nodalavg.shape\n",
    "# age_mea = np.mean(np.array(subj_graph[nmn]),1)\n",
    "np.mean(np.array(nodalsubj_graph[nmn]),1).shape"
   ]
  },
  {
   "cell_type": "code",
   "execution_count": 72,
   "metadata": {},
   "outputs": [
    {
     "ename": "KeyError",
     "evalue": "'Sigma'",
     "output_type": "error",
     "traceback": [
      "\u001b[1;31m---------------------------------------------------------------------------\u001b[0m",
      "\u001b[1;31mKeyError\u001b[0m                                  Traceback (most recent call last)",
      "\u001b[1;32m<ipython-input-72-0711616bf1a3>\u001b[0m in \u001b[0;36m<module>\u001b[1;34m\u001b[0m\n\u001b[1;32m----> 1\u001b[1;33m \u001b[0mnp\u001b[0m\u001b[1;33m.\u001b[0m\u001b[0mnan_to_num\u001b[0m\u001b[1;33m(\u001b[0m\u001b[0mnodalsubj_graph\u001b[0m\u001b[1;33m[\u001b[0m\u001b[0mnmn\u001b[0m\u001b[1;33m]\u001b[0m\u001b[1;33m)\u001b[0m\u001b[1;33m\u001b[0m\u001b[1;33m\u001b[0m\u001b[0m\n\u001b[0m",
      "\u001b[1;31mKeyError\u001b[0m: 'Sigma'"
     ]
    }
   ],
   "source": [
    "np.nan_to_num(nodalsubj_graph[nmn])"
   ]
  },
  {
   "cell_type": "code",
   "execution_count": 71,
   "metadata": {},
   "outputs": [
    {
     "ename": "KeyError",
     "evalue": "'Sigma'",
     "output_type": "error",
     "traceback": [
      "\u001b[1;31m---------------------------------------------------------------------------\u001b[0m",
      "\u001b[1;31mKeyError\u001b[0m                                  Traceback (most recent call last)",
      "\u001b[1;32m<ipython-input-71-08c1d08ec68d>\u001b[0m in \u001b[0;36m<module>\u001b[1;34m\u001b[0m\n\u001b[0;32m      6\u001b[0m \u001b[1;31m#         df.write(f'\\n #################{nmn}######################\\n')\u001b[0m\u001b[1;33m\u001b[0m\u001b[1;33m\u001b[0m\u001b[1;33m\u001b[0m\u001b[0m\n\u001b[0;32m      7\u001b[0m     \u001b[0mfig\u001b[0m \u001b[1;33m=\u001b[0m \u001b[0mplt\u001b[0m\u001b[1;33m.\u001b[0m\u001b[0mfigure\u001b[0m\u001b[1;33m(\u001b[0m\u001b[0mfigsize\u001b[0m\u001b[1;33m=\u001b[0m\u001b[1;33m(\u001b[0m\u001b[1;36m18\u001b[0m\u001b[1;33m,\u001b[0m \u001b[1;36m8\u001b[0m\u001b[1;33m)\u001b[0m\u001b[1;33m,\u001b[0m \u001b[0mfacecolor\u001b[0m\u001b[1;33m=\u001b[0m\u001b[1;34m'white'\u001b[0m\u001b[1;33m)\u001b[0m\u001b[1;33m\u001b[0m\u001b[1;33m\u001b[0m\u001b[0m\n\u001b[1;32m----> 8\u001b[1;33m     \u001b[0mmeasurement\u001b[0m \u001b[1;33m=\u001b[0m \u001b[0mnp\u001b[0m\u001b[1;33m.\u001b[0m\u001b[0mnan_to_num\u001b[0m\u001b[1;33m(\u001b[0m\u001b[0mnodalsubj_graph\u001b[0m\u001b[1;33m[\u001b[0m\u001b[0mnmn\u001b[0m\u001b[1;33m]\u001b[0m\u001b[1;33m)\u001b[0m\u001b[1;33m\u001b[0m\u001b[1;33m\u001b[0m\u001b[0m\n\u001b[0m\u001b[0;32m      9\u001b[0m     \u001b[0my_nodalavg\u001b[0m \u001b[1;33m=\u001b[0m \u001b[0mnp\u001b[0m\u001b[1;33m.\u001b[0m\u001b[0mmean\u001b[0m\u001b[1;33m(\u001b[0m\u001b[0mnp\u001b[0m\u001b[1;33m.\u001b[0m\u001b[0marray\u001b[0m\u001b[1;33m(\u001b[0m\u001b[0mmeasurement\u001b[0m\u001b[1;33m)\u001b[0m\u001b[1;33m[\u001b[0m\u001b[1;33m:\u001b[0m\u001b[1;36m34\u001b[0m\u001b[1;33m]\u001b[0m\u001b[1;33m,\u001b[0m\u001b[1;36m0\u001b[0m\u001b[1;33m)\u001b[0m\u001b[1;33m\u001b[0m\u001b[1;33m\u001b[0m\u001b[0m\n\u001b[0;32m     10\u001b[0m     \u001b[0me_nodalavg\u001b[0m \u001b[1;33m=\u001b[0m \u001b[0mnp\u001b[0m\u001b[1;33m.\u001b[0m\u001b[0mmean\u001b[0m\u001b[1;33m(\u001b[0m\u001b[0mnp\u001b[0m\u001b[1;33m.\u001b[0m\u001b[0marray\u001b[0m\u001b[1;33m(\u001b[0m\u001b[0mmeasurement\u001b[0m\u001b[1;33m)\u001b[0m\u001b[1;33m[\u001b[0m\u001b[1;36m34\u001b[0m\u001b[1;33m:\u001b[0m\u001b[1;36m62\u001b[0m\u001b[1;33m]\u001b[0m\u001b[1;33m,\u001b[0m\u001b[1;36m0\u001b[0m\u001b[1;33m)\u001b[0m\u001b[1;33m\u001b[0m\u001b[1;33m\u001b[0m\u001b[0m\n",
      "\u001b[1;31mKeyError\u001b[0m: 'Sigma'"
     ]
    },
    {
     "data": {
      "text/plain": [
       "<Figure size 1296x576 with 0 Axes>"
      ]
     },
     "metadata": {},
     "output_type": "display_data"
    }
   ],
   "source": [
    "axis = [0,11,17,29,47,54,60]\n",
    "domain = ['DMN','SMN','VIS','CC',\"SC\",\"AUD\"]\n",
    "# with open(f'./state_top/dgraph/nodal_tp_dgraph.txt','a+') as df:\n",
    "    \n",
    "for nmn in NMN:\n",
    "#         df.write(f'\\n #################{nmn}######################\\n')\n",
    "    fig = plt.figure(figsize=(18, 8), facecolor='white')\n",
    "    y_nodalavg = np.mean(np.array(nodalsubj_graph[nmn])[:34],0) \n",
    "    e_nodalavg = np.mean(np.array(nodalsubj_graph[nmn])[34:62],0)\n",
    "    age_mea = np.mean(np.array(nodalsubj_graph[nmn]),1)\n",
    "    for num,domain_name in enumerate(domain):\n",
    "        plt.subplot(2,3,num+1)\n",
    "        y_nodal = np.mean(y_nodalavg[:,axis[num]:axis[num+1]],axis = 1)\n",
    "        e_nodal = np.mean(e_nodalavg[:,axis[num]:axis[num+1]],axis = 1)\n",
    "#             print(y_DMN.shape)\n",
    "        t,p = ttest_ind(e_nodal,y_nodal,nan_policy='omit')\n",
    "        domain_val = np.mean(age_mea[:,axis[num]:axis[num+1]],1)\n",
    "        r,rp = stats.pearsonr(ages,domain_val)\n",
    "#             df.write(f'==> ==> {domain_name},t:{t},P:{p} Corrleation: {r},P:{p} \\n')\n",
    "\n",
    "#         doma\n",
    "#         t,p = ttest_ind(e_avg,y_avg,nan_policy='omit')\n",
    "#         try:\n",
    "# #             r,rp = stats.pearsonr(ages,age_mea)\n",
    "\n",
    "\n",
    "#         plt.plot([i+1 for i in range(265)],y_nodal,label = 'Younger',linewidth=2.0)\n",
    "#         plt.plot([i+1 for i in range(265)],e_nodal,label = 'Elder',linewidth=2.0)\n",
    "#         plt.xlabel(\"Time(TR)\",  size = 13)\n",
    "#         plt.ylabel(f\"{domain_name}\", size = 13)\n",
    "#         plt.legend()\n",
    "#         plt.suptitle(f'{nmn}',fontsize = 20)\n",
    "# plt.show()\n",
    "#     df.close()"
   ]
  },
  {
   "cell_type": "code",
   "execution_count": 46,
   "metadata": {},
   "outputs": [
    {
     "data": {
      "text/plain": [
       "(-0.38905982989290155, 0.001776577710824182)"
      ]
     },
     "execution_count": 46,
     "metadata": {},
     "output_type": "execute_result"
    }
   ],
   "source": [
    "LDI = np.array( [\n",
    "  0.33333333,  0.19444444,  0.44444444,  0.55555556, 0.16666667,  0.00000000,-0.19444444,\n",
    " 0.08333333 , 0.4722222,  0.13888889 , 0.16666667,  0.33333333,  0.00000000,  0.41666667,\n",
    "  0.16666667,  0.19444444,  0.27777778,  0.36111111,  0.00000000,  0.36111111,  0.44444444,\n",
    "  0.30555556,  0.38888889,  0.25000000,  0.08333333,  0.22222222,  0.27777778,  0.69444444,\n",
    "  0.47222222,  0.16666667,  0.00000000,  0.52777778,  0.13888889,  0.50000000,0.02777778,  0.16666667,  \n",
    "    0.00000000 , 0.08333333 , 0.00000000  ,0.11111111 , 0.25000000 , \n",
    "        0.05555556, 0.16666667,  0.11111111 , 0.50000000 , 0.08333333 , 0.41666667,-0.02777778,\n",
    "  0.05555556,  0.44444444 , 0.00000000 , 0.22222222, -0.05555556, -0.08333333 , 0.13888889,\n",
    "  0.19444444,  0.00000000, -0.30555556,  0.02777778,  0.11111111, -0.36111111 , 0.44444444])\n",
    "r,p =  stats.pearsonr(ages,LDI)\n",
    "r,p"
   ]
  },
  {
   "cell_type": "code",
   "execution_count": 47,
   "metadata": {},
   "outputs": [
    {
     "data": {
      "text/plain": [
       "Ttest_indResult(statistic=3.2705537434942578, pvalue=0.0017810287140124896)"
      ]
     },
     "execution_count": 47,
     "metadata": {},
     "output_type": "execute_result"
    }
   ],
   "source": [
    "ttest_ind(LDI[:34],LDI[34:],nan_policy='omit')"
   ]
  },
  {
   "cell_type": "code",
   "execution_count": 48,
   "metadata": {},
   "outputs": [],
   "source": [
    "axis = [0,11,17,29,47,54,60]\n",
    "domain = ['DMN','SMN','VIS','CC',\"SC\",\"AUD\"]\n",
    "# with open(f'./state_top/dgraph/nodal_tp_dgraph.txt','a+') as df:\n",
    "Domain_LDI_r = {}\n",
    "for nmn in NMN:\n",
    "#         df.write(f'\\n #################{nmn}######################\\n')\n",
    "#     fig = plt.figure(figsize=(18, 8), facecolor='white')\n",
    "#     y_nodalavg = np.mean(np.array(nodalsubj_graph[nmn])[:34],0) \n",
    "#     e_nodalavg = np.mean(np.array(nodalsubj_graph[nmn])[34:62],0)\n",
    "    age_mea = np.mean(np.array(nodalsubj_graph[nmn]),1) # 62 60\n",
    "#     print(age_mea.shape)\n",
    "#     break\n",
    "    Domain_LDI_r[f'{nmn}'] =[]\n",
    "    for num,domain_name in enumerate(domain):\n",
    "        domain_val = np.mean(age_mea[:,axis[num]:axis[num+1]],axis = 1)\n",
    "        r,rp = stats.pearsonr(LDI,domain_val)\n",
    "        Domain_LDI_r[f'{nmn}'].append([r,rp])\n",
    "     \n",
    "#         plt.subplot(2,3,num+1)\n",
    "#         y_nodal = np.mean(y_nodalavg[:,axis[num]:axis[num+1]],axis = 1)\n",
    "#         e_nodal = np.mean(e_nodalavg[:,axis[num]:axis[num+1]],axis = 1)\n",
    "#             print(y_DMN.shape)\n",
    "#         t,p = ttest_ind(e_nodal,y_nodal,nan_policy='omit')\n",
    "#         domain_val = np.mean(age_mea[:,axis[num]:axis[num+1]],1)\n",
    "#         r,rp = stats.pearsonr(ages,domain_val)\n",
    "#             df.write(f'==> ==> {domain_name},t:{t},P:{p} Corrleation: {r},P:{p} \\n')\n",
    "\n",
    "#         doma\n",
    "#         t,p = ttest_ind(e_avg,y_avg,nan_policy='omit')\n",
    "#         try:\n",
    "# #             r,rp = stats.pearsonr(ages,age_mea)\n",
    "\n",
    "\n",
    "#         plt.plot([i+1 for i in range(265)],y_nodal,label = 'Younger',linewidth=2.0)\n",
    "#         plt.plot([i+1 for i in range(265)],e_nodal,label = 'Elder',linewidth=2.0)\n",
    "#         plt.xlabel(\"Time(TR)\",  size = 13)\n",
    "#         plt.ylabel(f\"{domain_name}\", size = 13)\n",
    "#         plt.legend()\n",
    "#         plt.suptitle(f'{nmn}',fontsize = 20)\n",
    "plt.show()\n",
    "#     df.close()"
   ]
  },
  {
   "cell_type": "code",
   "execution_count": 25,
   "metadata": {},
   "outputs": [
    {
     "data": {
      "text/plain": [
       "(62,)"
      ]
     },
     "execution_count": 25,
     "metadata": {},
     "output_type": "execute_result"
    }
   ],
   "source": [
    "LDI.shape"
   ]
  },
  {
   "cell_type": "code",
   "execution_count": 49,
   "metadata": {},
   "outputs": [
    {
     "data": {
      "text/plain": [
       "{'LocalEfficiency': [[-0.144535450354788, 0.26236886524507985],\n",
       "  [-0.04159271898173588, 0.7482290681210955],\n",
       "  [-0.013598141075459176, 0.9164570163976796],\n",
       "  [0.06250512653949139, 0.6293640410029095],\n",
       "  [-0.07482338663219214, 0.5632768771487408],\n",
       "  [-0.01965936243654822, 0.8794533021209293]],\n",
       " 'Volunerable1': [[0.03145333786541931, 0.8082504835827772],\n",
       "  [-0.09859429731798525, 0.4458252146855923],\n",
       "  [0.05010823998188975, 0.6989292610642853],\n",
       "  [0.04892845894233536, 0.7056914263097905],\n",
       "  [-0.0017956398268089832, 0.9889487372832015],\n",
       "  [0.026298104872336716, 0.8392191210009898]],\n",
       " 'nodalBetwenness': [[0.26444371391800947, 0.03780265509835367],\n",
       "  [-0.25665313451344424, 0.044048557379571134],\n",
       "  [0.10170622880660377, 0.43152739473814594],\n",
       "  [-0.10993782634664462, 0.3949821447598892],\n",
       "  [0.028840032301234234, 0.8239157644981189],\n",
       "  [-0.05531254734637914, 0.6693829068461278]]}"
      ]
     },
     "execution_count": 49,
     "metadata": {},
     "output_type": "execute_result"
    }
   ],
   "source": [
    "Domain_LDI_r"
   ]
  },
  {
   "cell_type": "code",
   "execution_count": 61,
   "metadata": {},
   "outputs": [
    {
     "name": "stdout",
     "output_type": "stream",
     "text": [
      "[[-0.37982198  0.63148379  1.02875272 ... -0.46540092 -0.52679554\n",
      "   0.09540508]\n",
      " [ 1.53749892  0.92461338  2.05175507 ... -1.32218061  1.72234462\n",
      "  -0.01925591]\n",
      " [ 0.84923961 -0.4917096  -0.34106475 ...  0.21103617 -0.42883547\n",
      "   1.98392231]\n",
      " ...\n",
      " [-0.04079059 -1.51681361  0.24709158 ...  1.58615968  0.0121414\n",
      "   1.60390116]\n",
      " [-1.34864369  0.33149724 -3.12715292 ...  0.83762523 -0.25754575\n",
      "  -0.6096903 ]\n",
      " [-0.35702674  0.30636724  0.35809298 ... -0.09454239 -0.83295399\n",
      "  -0.57866515]]\n"
     ]
    },
    {
     "data": {
      "text/plain": [
       "array([[[-0.37982198,  0.63148379,  1.02875272, ..., -0.46540092,\n",
       "         -0.52679554,  0.09540508],\n",
       "        [ 1.53749892,  0.92461338,  2.05175507, ..., -1.32218061,\n",
       "          1.72234462, -0.01925591],\n",
       "        [ 0.84923961, -0.4917096 , -0.34106475, ...,  0.21103617,\n",
       "         -0.42883547,  1.98392231],\n",
       "        ...,\n",
       "        [-0.04079059, -1.51681361,  0.24709158, ...,  1.58615968,\n",
       "          0.0121414 ,  1.60390116],\n",
       "        [-1.34864369,  0.33149724, -3.12715292, ...,  0.83762523,\n",
       "         -0.25754575, -0.6096903 ],\n",
       "        [-0.35702674,  0.30636724,  0.35809298, ..., -0.09454239,\n",
       "         -0.83295399, -0.57866515]]])"
      ]
     },
     "execution_count": 61,
     "metadata": {},
     "output_type": "execute_result"
    }
   ],
   "source": [
    "a = np.random.randn(9,126)\n",
    "# np.exapnd_dims()\n",
    "a.shape\n",
    "print(a)\n",
    "b  = np.expand_dims(a,0)\n",
    "b"
   ]
  }
 ],
 "metadata": {
  "kernelspec": {
   "display_name": "Python 3",
   "language": "python",
   "name": "python3"
  },
  "language_info": {
   "codemirror_mode": {
    "name": "ipython",
    "version": 3
   },
   "file_extension": ".py",
   "mimetype": "text/x-python",
   "name": "python",
   "nbconvert_exporter": "python",
   "pygments_lexer": "ipython3",
   "version": "3.7.4"
  }
 },
 "nbformat": 4,
 "nbformat_minor": 4
}
