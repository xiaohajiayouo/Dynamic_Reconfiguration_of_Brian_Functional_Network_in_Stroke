{
 "cells": [
  {
   "cell_type": "code",
   "execution_count": 1,
   "metadata": {},
   "outputs": [
    {
     "name": "stderr",
     "output_type": "stream",
     "text": [
      "D:\\Anaconda3\\lib\\site-packages\\statsmodels\\tools\\_testing.py:19: FutureWarning: pandas.util.testing is deprecated. Use the functions in the public API at pandas.testing instead.\n",
      "  import pandas.util.testing as tm\n"
     ]
    }
   ],
   "source": [
    "import scipy.io as scio\n",
    "import numpy as np\n",
    "import os \n",
    "from glob import *\n",
    "import nibabel as nib\n",
    "import pandas as pd\n",
    "import random\n",
    "from sklearn.feature_selection import SelectKBest, f_classif\n",
    "from sklearn.pipeline import make_pipeline\n",
    "from sklearn.svm import LinearSVC\n",
    "from sklearn.svm import SVC\n",
    "from sklearn.tree import DecisionTreeClassifier\n",
    "\n",
    "import numpy as np\n",
    "import pandas as pd\n",
    "from scipy.io import loadmat\n",
    "import glob\n",
    "import os\n",
    "import sys\n",
    "import matplotlib.pyplot as plt\n",
    "import seaborn as sns\n",
    "sns.set(style=\"white\")\n",
    "\n",
    "from scipy import stats\n",
    "from mne.viz import circular_layout, plot_connectivity_circle\n",
    "import statsmodels.api as sm\n",
    "from statsmodels.formula.api import ols\n",
    "import statsmodels.stats.multicomp\n",
    "import pyreadstat\n",
    "\n",
    "from matplotlib import cm\n",
    "pd.set_option('display.max_columns', 200)\n",
    "pd.set_option('display.max_rows', 200)\n",
    "\n",
    "from mpl_toolkits.axes_grid1.inset_locator import inset_axes\n",
    "import os\n",
    "from scipy.stats import ttest_ind"
   ]
  },
  {
   "cell_type": "code",
   "execution_count": 5,
   "metadata": {},
   "outputs": [],
   "source": [
    "age = pd.read_excel(r'H:\\Jupyter\\Age\\age.xlsx')\n",
    "y_data = age['label'].tolist()\n",
    "y_data = np.array(y_data)\n",
    "age_values = age['Age_Years']"
   ]
  },
  {
   "cell_type": "code",
   "execution_count": 6,
   "metadata": {},
   "outputs": [],
   "source": [
    "ages = np.array(age_values)"
   ]
  },
  {
   "cell_type": "code",
   "execution_count": 58,
   "metadata": {},
   "outputs": [],
   "source": [
    "LDI = np.array( [0.33333333,  0.19444444,  0.44444444,  0.55555556, 0.16666667,  0.00000000,-0.19444444,\n",
    " 0.08333333 , 0.4722222,  0.13888889 , 0.16666667,  0.33333333,  0.00000000,  0.41666667,\n",
    "  0.16666667,  0.19444444,  0.27777778,  0.36111111,  0.00000000,  0.36111111,  0.44444444,\n",
    "  0.30555556,  0.38888889,  0.25000000,  0.08333333,  0.22222222,  0.27777778,  0.69444444,\n",
    "  0.47222222,  0.16666667,  0.00000000,  0.52777778,  0.13888889,  0.50000000,0.02777778,  0.16666667,  \n",
    "    0.00000000 , 0.08333333 , 0.00000000  ,0.11111111 , 0.25000000 , \n",
    "        0.05555556, 0.16666667,  0.11111111 , 0.50000000 , 0.08333333 , 0.41666667,-0.02777778,\n",
    "  0.05555556,  0.44444444 , 0.00000000 , 0.22222222, -0.05555556, -0.08333333 , 0.13888889,\n",
    "  0.19444444,  0.00000000, -0.30555556,  0.02777778,  0.11111111, -0.36111111 , 0.44444444])"
   ]
  },
  {
   "cell_type": "code",
   "execution_count": 9,
   "metadata": {},
   "outputs": [],
   "source": [
    "f_state = np.loadtxt(r'H:\\Matlab\\Work\\Age\\Gift_FCM\\ICA\\DFNC\\TR_30\\frac_time_state.txt')\n",
    "mdt = np.loadtxt(r'H:\\Matlab\\Work\\Age\\Gift_FCM\\ICA\\DFNC\\TR_30\\mean_dwell_time.txt')\n",
    "nt = np.loadtxt(r'H:\\Matlab\\Work\\Age\\Gift_FCM\\ICA\\DFNC\\TR_30\\num_transitions.txt')\n",
    "transition_m_path = r'H:\\Matlab\\Work\\Age\\Gift_FCM\\ICA\\DFNC\\TR_30\\transition_matrix'\n",
    "subj_tm = []\n",
    "for path in os.listdir(transition_m_path):\n",
    "    if path.startswith('Sub'):\n",
    "#         print(os.path.join(transition_m_path,path))\n",
    "        tm = np.loadtxt(os.path.join(transition_m_path,path))\n",
    "        subj_tm.append(tm.flatten())"
   ]
  },
  {
   "cell_type": "code",
   "execution_count": 27,
   "metadata": {},
   "outputs": [],
   "source": [
    "state_featue = {}\n",
    "state_featue['Age'] =ages\n",
    "for i in range(4):\n",
    "    fname = 'fraction'+str(i)\n",
    "    state_featue[fname] =np.array(f_state[:,i])\n",
    "for i in range(4):\n",
    "    mdtname = 'MDT'+str(i)\n",
    "    state_featue[mdtname] = np.array(mdt[:,i])\n",
    "\n",
    "state_featue['numoftans'] = np.array(nt)\n",
    "# for i in range(16):\n",
    "#     tansition_name = 'tm'+str(i)\n",
    "#     state_featue[f'{tansition_name}'] = np.array(subj_tm[i])\n",
    "#     print(np.array(subj_tm[i]).shape)"
   ]
  },
  {
   "cell_type": "code",
   "execution_count": 32,
   "metadata": {},
   "outputs": [],
   "source": [
    "state_featue['Index'] =np.array([i for i in range(62)])"
   ]
  },
  {
   "cell_type": "code",
   "execution_count": 33,
   "metadata": {},
   "outputs": [],
   "source": [
    "state_featue_df = pd.DataFrame(state_featue)\n",
    "# state_featue"
   ]
  },
  {
   "cell_type": "code",
   "execution_count": 36,
   "metadata": {},
   "outputs": [],
   "source": [
    "# import seaborn as sns\n",
    "# sns.lmplot(x=\"Index\",y=\"fraction1\",data=state_featue_df)"
   ]
  },
  {
   "cell_type": "code",
   "execution_count": 91,
   "metadata": {},
   "outputs": [],
   "source": [
    "r_f = [stats.pearsonr(ages,f_state[:,i]) for i in range(4)]\n",
    "r_mdt = [stats.pearsonr(ages,mdt[:,i]) for i in range(4)]\n",
    "r_nt = stats.pearsonr(ages,nt)"
   ]
  },
  {
   "cell_type": "code",
   "execution_count": 94,
   "metadata": {},
   "outputs": [
    {
     "data": {
      "text/plain": [
       "(0.12563502354094067, 0.33056268356104873)"
      ]
     },
     "execution_count": 94,
     "metadata": {},
     "output_type": "execute_result"
    }
   ],
   "source": [
    "# r_f\n",
    "# [(0.11307165432046214, 0.38156361669344524),\n",
    "#  (-0.6392867906505685, 2.2400087526070177e-08),\n",
    "#  (0.650715489878978, 1.0330743507206618e-08),\n",
    "#  (-0.10591044801278929, 0.41262891982423267)]\n",
    "# r_mdt\n",
    "# [(-0.02102877455218991, 0.8711256086469772),\n",
    "#  (-0.5022435412095304, 3.192094300508301e-05),\n",
    "#  (0.5553181840574021, 2.8057114990483694e-06),\n",
    "#  (-0.10191584503051916, 0.430573717913734)]\n",
    "# r_nt\n",
    "# (0.12563502354094067, 0.33056268356104873)"
   ]
  },
  {
   "cell_type": "code",
   "execution_count": 45,
   "metadata": {},
   "outputs": [],
   "source": [
    "transition_m_path = r'H:\\Matlab\\Work\\Age\\Gift_FCM\\ICA\\DFNC\\TR_30\\transition_matrix'\n",
    "subj_tm = []\n",
    "for path in os.listdir(transition_m_path):\n",
    "    if path.startswith('Sub'):\n",
    "#         print(os.path.join(transition_m_path,path))\n",
    "        tm = np.loadtxt(os.path.join(transition_m_path,path))\n",
    "        subj_tm.append(tm.flatten())\n",
    "subj_tm = np.array(subj_tm)"
   ]
  },
  {
   "cell_type": "code",
   "execution_count": 95,
   "metadata": {},
   "outputs": [],
   "source": [
    "r_tm = [stats.pearsonr(ages,subj_tm[:,i]) for i in range(16)]"
   ]
  },
  {
   "cell_type": "code",
   "execution_count": null,
   "metadata": {},
   "outputs": [],
   "source": [
    "r_ldi_"
   ]
  },
  {
   "cell_type": "code",
   "execution_count": 96,
   "metadata": {},
   "outputs": [
    {
     "data": {
      "text/plain": [
       "[(-0.15211683874069146, 0.2378901031905687),\n",
       " (0.0936783025719743, 0.46893857271358225),\n",
       " (0.31554181426179706, 0.012482696838849554),\n",
       " (0.09597648848594205, 0.45805370181537797),\n",
       " (0.038400011326128025, 0.7669872989417258),\n",
       " (-0.0991317131024453, 0.44333742722600367),\n",
       " (0.20421037502376943, 0.11137170093362875),\n",
       " (-0.12392503732479837, 0.3372393258817359),\n",
       " (0.26467165815193805, 0.03763158837988256),\n",
       " (0.25405086074095506, 0.04631508568226716),\n",
       " (-0.4088068993117513, 0.0009707679755849056),\n",
       " (0.19014584597186257, 0.13879790341452672),\n",
       " (0.03461780195658287, 0.7893816974748221),\n",
       " (-0.0736234878674473, 0.5695686512858533),\n",
       " (0.11186534925114332, 0.3866962043576344),\n",
       " (-0.05266942980015983, 0.684329750834611)]"
      ]
     },
     "execution_count": 96,
     "metadata": {},
     "output_type": "execute_result"
    }
   ],
   "source": [
    "# r_tm\n",
    "# [(-0.15211683874069146, 0.2378901031905687),\n",
    "#  (0.0936783025719743, 0.46893857271358225),\n",
    "#  (0.31554181426179706, 0.012482696838849554),\n",
    "#  (0.09597648848594205, 0.45805370181537797), 4\n",
    "#  (0.038400011326128025, 0.7669872989417258),\n",
    "#  (-0.0991317131024453, 0.44333742722600367),\n",
    "#  (0.20421037502376943, 0.11137170093362875),\n",
    "#  (-0.12392503732479837, 0.3372393258817359), 4\n",
    "#  (0.26467165815193805, 0.03763158837988256),\n",
    "#  (0.25405086074095506, 0.04631508568226716),\n",
    "#  (-0.4088068993117513, 0.0009707679755849056),\n",
    "#  (0.19014584597186257, 0.13879790341452672),4\n",
    "#  (0.03461780195658287, 0.7893816974748221),\n",
    "#  (-0.0736234878674473, 0.5695686512858533),\n",
    "#  (0.11186534925114332, 0.3866962043576344),\n",
    "#  (-0.05266942980015983, 0.684329750834611)]"
   ]
  },
  {
   "cell_type": "code",
   "execution_count": 54,
   "metadata": {},
   "outputs": [],
   "source": [
    "subj_tm = np.array(subj_tm)"
   ]
  },
  {
   "cell_type": "code",
   "execution_count": 59,
   "metadata": {},
   "outputs": [],
   "source": [
    "rldi_f = [stats.pearsonr(LDI,f_state[:,i]) for i in range(4)]\n",
    "rldi_mdt = [stats.pearsonr(LDI,mdt[:,i]) for i in range(4)]\n",
    "rldi_nt = stats.pearsonr(LDI,nt)\n",
    "rldi_tm = [stats.pearsonr(LDI,subj_tm[:,i]) for i in range(16)]\n",
    "        "
   ]
  },
  {
   "cell_type": "code",
   "execution_count": 63,
   "metadata": {},
   "outputs": [
    {
     "data": {
      "text/plain": [
       "(-0.042931405298247086, 0.740406157898052)"
      ]
     },
     "execution_count": 63,
     "metadata": {},
     "output_type": "execute_result"
    }
   ],
   "source": [
    "rldi_f\n",
    "# [(0.07575592753121542, 0.5584096927413307),\n",
    "#  (0.3270039771832792, 0.009481785550866116),\n",
    "#  (-0.38823012523823197, 0.001820815561371402),\n",
    "#  (0.0063895252825228455, 0.9606899647799629)]\n",
    "\n",
    "rldi_mdt\n",
    "\n",
    "# [(0.20214734244334623, 0.11511073177579874),\n",
    "#  (0.31459381103186146, 0.012764079566671678),\n",
    "#  (-0.35912835602336823, 0.004149990474911931),\n",
    "#  (-0.0544245445721962, 0.6743906963819879)]\n",
    "\n",
    "rldi_nt #(-0.042931405298247086, 0.740406157898052)\n",
    "rldi_tm \n",
    "# [(-0.049208093628559255, 0.7040865676294878),\n",
    "#  (0.01361313179758127, 0.9163652471586337),\n",
    "#  (-0.00017101333184101064, 0.9989474661891343),\n",
    "#  (0.10999882596799905, 0.394718330206862),\n",
    "#  (-0.051623403211901474, 0.6902788830701306),\n",
    "#  (0.07501833675413361, 0.562257732851534),\n",
    "#  (-0.08057583794656975, 0.5335759830958453),\n",
    "#  (-0.007899120371414457, 0.9514126681980722),\n",
    "#  (-0.0635829960872977, 0.62345367951534),\n",
    "#  (-0.06991866446208907, 0.5891986467102858),\n",
    "#  (0.14236997971318144, 0.26966136511771704),\n",
    "#  (-0.11577029648354077, 0.3702299379884431),\n",
    "#  (0.09840934490795832, 0.44668317974761906),\n",
    "#  (-0.03970662496106568, 0.759293720566629),\n",
    "#  (-0.14627971820595875, 0.25659224733281943),\n",
    "#  (0.1044076022898883, 0.4193288177205353)]"
   ]
  }
 ],
 "metadata": {
  "kernelspec": {
   "display_name": "Python 3",
   "language": "python",
   "name": "python3"
  },
  "language_info": {
   "codemirror_mode": {
    "name": "ipython",
    "version": 3
   },
   "file_extension": ".py",
   "mimetype": "text/x-python",
   "name": "python",
   "nbconvert_exporter": "python",
   "pygments_lexer": "ipython3",
   "version": "3.7.4"
  }
 },
 "nbformat": 4,
 "nbformat_minor": 4
}
